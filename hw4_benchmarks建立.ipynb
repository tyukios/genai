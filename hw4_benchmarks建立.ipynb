{
  "nbformat": 4,
  "nbformat_minor": 0,
  "metadata": {
    "colab": {
      "provenance": [],
      "authorship_tag": "ABX9TyNvSBLM70/lnIuBhaKUPFEs",
      "include_colab_link": true
    },
    "kernelspec": {
      "name": "python3",
      "display_name": "Python 3"
    },
    "language_info": {
      "name": "python"
    }
  },
  "cells": [
    {
      "cell_type": "markdown",
      "metadata": {
        "id": "view-in-github",
        "colab_type": "text"
      },
      "source": [
        "<a href=\"https://colab.research.google.com/github/tyukios/genai/blob/main/hw4_benchmarks%E5%BB%BA%E7%AB%8B.ipynb\" target=\"_parent\"><img src=\"https://colab.research.google.com/assets/colab-badge.svg\" alt=\"Open In Colab\"/></a>"
      ]
    },
    {
      "cell_type": "markdown",
      "source": [
        "##一、選擇benchmark\n",
        "| 構想 |\n",
        "\n",
        "我平時對創造不同角色的人物設定很感興趣，但由於人物設定的複雜程度各異，且需要多面向的思考能力，我偶爾會借助ChatGPT來潤飾細節並提升設定的說服力。\n",
        "\n",
        "憑藉過去多次利用大型語言模型（LLM，尤其是ChatGPT）完善角色設定的經驗，這次我決定以**「提供不完整的角色設定」**作為測試基準，來比較不同LLM的表現能力。\n",
        "\n",
        "\n",
        "---\n",
        "\n",
        "\n",
        "---\n",
        "\n",
        "\n",
        "\n",
        "###這次使用的benchmark的內容（角色設定），主要涵蓋以下幾個方面：\n",
        "\n",
        "1. 深化角色細節：\n",
        "\n",
        "    要求 AI 根據已提供的角色描述（大航海時代的男性海盜角色），進一步延伸並擴充角色的詳細資料，例如：飲食偏好、成長經歷、人生態度與信念、行為風格與喜好、說話與動作習慣、人生理想與目標\n",
        "\n",
        "2. 補充背景故事：\n",
        "    \n",
        "    要求 AI 根據已提供的角色資料（時代背景、性格、家庭背景、成長環境、人生轉折點、職業發展），補充可前後呼應的細節設定以達到充分展現角色的核心概念\n",
        "\n",
        "3. 合理的世界觀設定：\n",
        "    \n",
        "    已提供的角色描述中，明確指出角色身處**大航海時代（地理大發現，約15~17世紀）**且其職業為**海盜**。因此設定角色所在的世界觀應適度參考大航海時代的海盜生活情形，並且避免人物設定中出現不合時宜的內容。\n",
        "\n",
        "---\n",
        "---\n",
        "\n",
        "###根據這次使用的benchmark的特性，可以測試 AI 在以下方面的表現：\n",
        "\n",
        "1. 角色塑造：\n",
        "\n",
        "    AI 是否能藉由已有的素材延伸設定，創作出一個有深度的角色？\n",
        "\n",
        "    角色的各項行為動機是否合理？\n",
        "\n",
        "2. 敘事前後一致性：\n",
        "\n",
        "    AI 產出的內容是否與角色背景一致？\n",
        "\n",
        "    AI 是否能確保各項設定前後呼應，不會出現矛盾？\n",
        "\n",
        "3. 歷史背景與文化理解：\n",
        "\n",
        "    AI 是否能產生符合大航海時代背景的設定？\n",
        "\n",
        "4. 創意發揮：\n",
        "\n",
        "    AI 產出的內容是否具有創意，而非了無新意的制式回答？"
      ],
      "metadata": {
        "id": "KEJMHIxxkfaM"
      }
    },
    {
      "cell_type": "markdown",
      "source": [
        "##二、選擇LLM\n",
        "\n",
        "使用\n",
        "1. chatgpt 推理模型\n",
        "2. grok 推理模型\n",
        "3. claude 預設模型\n",
        "4. perplexity 預設模型"
      ],
      "metadata": {
        "id": "9kNa1ZGsknnp"
      }
    },
    {
      "cell_type": "markdown",
      "source": [
        "##三、測試經過"
      ],
      "metadata": {
        "id": "uEFPK_sxjxDO"
      }
    },
    {
      "cell_type": "markdown",
      "source": [
        "chatgpt\n",
        "\n",
        "小感想\n"
      ],
      "metadata": {
        "id": "OY4Bktncj5HM"
      }
    },
    {
      "cell_type": "markdown",
      "source": [
        "##四、測試感想\n",
        "\n",
        "寫下你對這些模型回答的看法，你比較喜歡哪一個、為什麼\n",
        "\n",
        "我比較喜歡claude的回答，但我不會全然採用claude的回答，而是會多方綜合\n",
        "我喜歡claude的回答是因為它的回答是這之中唯一有提到時代背景設定"
      ],
      "metadata": {
        "id": "lMS6uEnCk1_t"
      }
    }
  ]
}