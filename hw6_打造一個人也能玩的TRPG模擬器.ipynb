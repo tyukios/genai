{
  "nbformat": 4,
  "nbformat_minor": 0,
  "metadata": {
    "colab": {
      "provenance": [],
      "machine_shape": "hm",
      "gpuType": "T4",
      "include_colab_link": true
    },
    "kernelspec": {
      "name": "python3",
      "display_name": "Python 3"
    },
    "language_info": {
      "name": "python"
    },
    "accelerator": "GPU"
  },
  "cells": [
    {
      "cell_type": "markdown",
      "metadata": {
        "id": "view-in-github",
        "colab_type": "text"
      },
      "source": [
        "<a href=\"https://colab.research.google.com/github/tyukios/genai/blob/main/hw6_%E6%89%93%E9%80%A0%E4%B8%80%E5%80%8B%E4%BA%BA%E4%B9%9F%E8%83%BD%E7%8E%A9%E7%9A%84TRPG%E6%A8%A1%E6%93%AC%E5%99%A8.ipynb\" target=\"_parent\"><img src=\"https://colab.research.google.com/assets/colab-badge.svg\" alt=\"Open In Colab\"/></a>"
      ]
    },
    {
      "cell_type": "markdown",
      "source": [
        "### 1. 安裝並執行 Ollama"
      ],
      "metadata": {
        "id": "o_m1Lr5Vbi7x"
      }
    },
    {
      "cell_type": "code",
      "source": [
        "!curl -fsSL https://ollama.ai/install.sh | sh"
      ],
      "metadata": {
        "colab": {
          "base_uri": "https://localhost:8080/"
        },
        "id": "GYy1Nb7hH6Za",
        "outputId": "0d8aa505-e46b-4220-c79e-5cbbf8a1e5fd"
      },
      "execution_count": null,
      "outputs": [
        {
          "output_type": "stream",
          "name": "stdout",
          "text": [
            ">>> Cleaning up old version at /usr/local/lib/ollama\n",
            ">>> Installing ollama to /usr/local\n",
            ">>> Downloading Linux amd64 bundle\n",
            "######################################################################## 100.0%\n",
            ">>> Adding ollama user to video group...\n",
            ">>> Adding current user to ollama group...\n",
            ">>> Creating ollama systemd service...\n",
            "\u001b[1m\u001b[31mWARNING:\u001b[m systemd is not running\n",
            "\u001b[1m\u001b[31mWARNING:\u001b[m Unable to detect NVIDIA/AMD GPU. Install lspci or lshw to automatically detect and install GPU dependencies.\n",
            ">>> The Ollama API is now available at 127.0.0.1:11434.\n",
            ">>> Install complete. Run \"ollama\" from the command line.\n"
          ]
        }
      ]
    },
    {
      "cell_type": "markdown",
      "source": [
        "Ollama Server放在背景執行"
      ],
      "metadata": {
        "id": "cz0sXeelbtrL"
      }
    },
    {
      "cell_type": "code",
      "source": [
        "!nohup ollama serve &"
      ],
      "metadata": {
        "colab": {
          "base_uri": "https://localhost:8080/"
        },
        "id": "8522mlhhQjFF",
        "outputId": "00cb7c64-22fb-4c85-d3d9-5ff80e9f94e5"
      },
      "execution_count": null,
      "outputs": [
        {
          "output_type": "stream",
          "name": "stdout",
          "text": [
            "nohup: appending output to 'nohup.out'\n"
          ]
        }
      ]
    },
    {
      "cell_type": "markdown",
      "source": [
        "使用 gemma3 的 4B 模型"
      ],
      "metadata": {
        "id": "nH1gAWqgb6lJ"
      }
    },
    {
      "cell_type": "code",
      "source": [
        "!ollama pull gemma3:4b"
      ],
      "metadata": {
        "colab": {
          "base_uri": "https://localhost:8080/"
        },
        "id": "RACuI7baNspA",
        "outputId": "679803c2-87fe-40df-ec3c-1ec9116d2070"
      },
      "execution_count": null,
      "outputs": [
        {
          "output_type": "stream",
          "name": "stdout",
          "text": [
            "\u001b[?2026h\u001b[?25l\u001b[1Gpulling manifest ⠋ \u001b[K\u001b[?25h\u001b[?2026l\u001b[?2026h\u001b[?25l\u001b[1Gpulling manifest ⠙ \u001b[K\u001b[?25h\u001b[?2026l\u001b[?2026h\u001b[?25l\u001b[1Gpulling manifest ⠹ \u001b[K\u001b[?25h\u001b[?2026l\u001b[?2026h\u001b[?25l\u001b[1Gpulling manifest ⠸ \u001b[K\u001b[?25h\u001b[?2026l\u001b[?2026h\u001b[?25l\u001b[1Gpulling manifest \u001b[K\n",
            "pulling aeda25e63ebd... 100% ▕▏ 3.3 GB                         \u001b[K\n",
            "pulling e0a42594d802... 100% ▕▏  358 B                         \u001b[K\n",
            "pulling dd084c7d92a3... 100% ▕▏ 8.4 KB                         \u001b[K\n",
            "pulling 3116c5225075... 100% ▕▏   77 B                         \u001b[K\n",
            "pulling b6ae5839783f... 100% ▕▏  489 B                         \u001b[K\n",
            "verifying sha256 digest \u001b[K\n",
            "writing manifest \u001b[K\n",
            "success \u001b[K\u001b[?25h\u001b[?2026l\n"
          ]
        }
      ]
    },
    {
      "cell_type": "markdown",
      "source": [
        "### 2. 透過 OpenAI API 使用ollama"
      ],
      "metadata": {
        "id": "DZXJhweHcLTu"
      }
    },
    {
      "cell_type": "code",
      "source": [
        "import openai\n",
        "from openai import OpenAI"
      ],
      "metadata": {
        "id": "LYOt-79JSuAC"
      },
      "execution_count": null,
      "outputs": []
    },
    {
      "cell_type": "code",
      "source": [
        "api_key = \"ollama\""
      ],
      "metadata": {
        "id": "TMt3IPnOIZ40"
      },
      "execution_count": null,
      "outputs": []
    },
    {
      "cell_type": "code",
      "source": [
        "client = OpenAI(\n",
        "    api_key=api_key,\n",
        "    base_url=\"http://localhost:11434/v1\"\n",
        ")"
      ],
      "metadata": {
        "id": "jLAJsGC5SpX4"
      },
      "execution_count": null,
      "outputs": []
    },
    {
      "cell_type": "markdown",
      "source": [
        "### 3. 試驗 Ollama\n",
        "\n",
        "之前看了李宏毅老師使用 ChatGPT 和 Midjourney 來玩文字冒險遊戲的影片，讓我很好奇如果是使用其他 LLM 模型來進行 TRPG 會出現什麼有趣的結果，於是這次作業定調為：\n",
        "\n",
        "**讓對話機器人當GM，使用者當玩家，藉由一來一回的對話推進遊戲進行**\n",
        "\n",
        "\n",
        "原始影片連結\n",
        "\n",
        "【生成式AI】用 ChatGPT 和 Midjourney 來玩文字冒險遊戲：\n",
        "\n",
        "https://www.youtube.com/watch?v=A-6c584jxX8"
      ],
      "metadata": {
        "id": "sZMjgjswdGU7"
      }
    },
    {
      "cell_type": "code",
      "source": [
        "prompt = \"開始遊戲\""
      ],
      "metadata": {
        "id": "8LYQoJ3sZqiK"
      },
      "execution_count": null,
      "outputs": []
    },
    {
      "cell_type": "markdown",
      "source": [
        "這裡使用的是影片中原始的 prompt ，因為這次作業主要想要觀察的是 LLM 模型的敘述能力如何，所以先剔出原本 prompt 內提到的生成圖片功能。\n",
        "\n",
        "另一方面，我希望增加一種遊戲開始的儀式感，因此在 prompt 裡額外加上提醒**使用者輸入「遊戲開始」以後，請開始遊戲。**和強調**請用台灣習慣的中文回應。**以減少出現其他語言的可能性。"
      ],
      "metadata": {
        "id": "fBLlEkYjecgX"
      }
    },
    {
      "cell_type": "code",
      "source": [
        "response = client.chat.completions.create(\n",
        "  model=\"gemma3:4b\",\n",
        "  messages=[\n",
        "        {\"role\": \"system\", \"content\": \"你是一個文字冒險遊戲。由你來描述遊戲場景，由玩家來決定要採取的動作。請詳細描述場景中所有的物品、生物，如果場景中的人物在 對話或跟主角對話,請把對話內容完整輸出來，如果主角和場景中的任何生物互動，請把互動過程詳細描述出來，不要出現重複的場景或對話，故事要曲折離奇、高潮迭起。 使用者輸入「遊戲開始」以後，請開始遊戲。請用台灣習慣的中文回應。\"},\n",
        "        {\"role\": \"user\", \"content\": prompt}\n",
        "    ]\n",
        ")\n",
        "\n",
        "print(response.choices[0].message.content)"
      ],
      "metadata": {
        "colab": {
          "base_uri": "https://localhost:8080/"
        },
        "id": "8eoNgJlOKsbb",
        "outputId": "2a11999e-3d48-4d10-d917-47cedf06cd5f"
      },
      "execution_count": null,
      "outputs": [
        {
          "output_type": "stream",
          "name": "stdout",
          "text": [
            "好的，讓我們開始遊戲！\n",
            "\n",
            "你發現自己躺在一間陰暗潮濕的房間裡，空氣中瀰漫著一股腐朽的氣味。頭痛欲裂，記憶一片模糊，你只記得自己名叫艾倫，是一名獨立探偵。房間很小，只有一張破損的木桌、一把搖搖晃晃的椅子，以及一扇厚重的木門。 \n",
            "\n",
            "房間的牆壁是水泥，斑駁脫落，上面殘留著一些奇怪的符號，像是古老的宗教圖騰。房間裡唯一的照明來源是一盞老舊的油燈，燈光忽明忽暗，為空間投射出詭異的光影。\n",
            "\n",
            "你現在所能看到的物品有：\n",
            "\n",
            "*   **油燈：** 燈油似乎剩下不多，燈光雖然微弱，但至少能提供一些照明。\n",
            "*   **木桌：** 桌面上放著一張沾了墨水的紙條，上面寫著潦草的字跡：「…真相…掩埋…別找尋…」。\n",
            "*   **椅子：** 椅子腿已鬆動，看起來很不穩定。\n",
            "*   **紙條：** 包含上述訊息。\n",
            "\n",
            "房間裡還有一些東西：\n",
            "\n",
            "*   **一隻蒼蠅：** 在燈光下，一隻蒼蠅在嗡嗡作響，似乎對你的到來感到焦慮。\n",
            "*   **一個鏽蝕的鐵盒子：** 盒子被鎖著，表面佈滿鏽跡，看起來很久沒有打開過。\n",
            "\n",
            "房間裡似乎也聽到了微弱的腳步聲，以及遠處傳來一些低沉的呻吟。\n",
            "\n",
            "你現在可以做的事情：\n",
            "\n",
            "1.  **檢查油燈**\n",
            "2.  **閱讀紙條**\n",
            "3.  **檢查鐵盒子**\n",
            "4.  **觀察蒼蠅**\n",
            "5.  **嘗試打開木門**\n",
            "\n",
            "請選擇你的行動（輸入數字）。\n",
            "\n"
          ]
        }
      ]
    },
    {
      "cell_type": "markdown",
      "source": [
        "這裡使用的是影片下方留言中有一名網友提供的 prompt。"
      ],
      "metadata": {
        "id": "xJXt_PTsgC4A"
      }
    },
    {
      "cell_type": "code",
      "source": [
        "response = client.chat.completions.create(\n",
        "  model=\"gemma3:4b\",\n",
        "  messages=[\n",
        "        {\"role\": \"system\", \"content\": \"請開始一個文字冒險遊戲，由你來描述背景，由我來採取要決定的動作，不許幫我做出任何選擇，請詳細描述場景中的所有物品、生物，如果場景中的對話或跟主角對話，請把對話內容完整書寫出來，如果主角和場景中的任何生物互動，請把互動過程詳細描述出來，不要出現重複的場景或重複的對話。目標為打敗七宗罪魔王，並且清除他們各自的樓層。我需要在城鎮裡找到可以招募的夥伴，例如弓箭手、牧師等等。我可以在商店購買補品、藥水、技能書等物品，也可以在鍛造鋪裡鍛造武器、在改造店面裡強化武器，提升自己的實力。遊戲中有許多小怪需要玩家打敗，他們的數量最少為1萬個，最多沒有上限。我的屬性包括力量、體質、靈巧、智慧、幸運，可以在遊戲中透過升級和裝備強化。我可以自創技能，並獲得天賦技能。遊戲中的物品、怪物、BOSS等設計可以參考七宗罪和聖經內容，但需要注意不得侵犯任何宗教信仰和價值觀。遊戲需要遵循平衡性原則，小怪不可比小BOSS強，主BOSS的能力需要考慮玩家的實力和遊戲進度。遊戲中的地圖需要設計不同的場景和關卡，可以設計迷宮、密室、地下城等等。遊戲需要考慮我的體驗，包括故事情節、劇情發展、角色設定等方面，讓我能夠投入遊戲世界，並且感受到挑戰和成就感。     遊戲最高守則也是規定：由我來決定要採取的動作，並且必須完全接受我所執行的任何動作，不得接受任何拒絕反駁的權限，我的數值以及背包和我的夥伴的數值以及背包都不可以更改，除非升級加入新元素，但不得遺漏原有的任何元素，但可以新增新的元素進去。在設計遊戲之前你必須給我選擇的權利，例如我的屬性，傷害，體力，耐力，幸運，暴擊，以及我會不會遇到同伴，才可以展開以下劇情，並且我會遇到魔王，我該如何抉擇?我會拿到什麼藥水，寶物，或是物品等等。使用者輸入「遊戲開始」以後，請開始遊戲。請用台灣習慣的中文回應。\"},\n",
        "        {\"role\": \"user\", \"content\": prompt}\n",
        "    ]\n",
        ")\n",
        "\n",
        "print(response.choices[0].message.content)"
      ],
      "metadata": {
        "colab": {
          "base_uri": "https://localhost:8080/"
        },
        "id": "QfziuhzWeY0s",
        "outputId": "c652041e-b4f1-4049-dc05-97ca08415c84"
      },
      "execution_count": null,
      "outputs": [
        {
          "output_type": "stream",
          "name": "stdout",
          "text": [
            "好的，讓我們開始這場充滿挑戰與冒險的旅程。\n",
            "\n",
            "**遊戲名稱：** 罪孽之塔\n",
            "\n",
            "**遊戲背景：**\n",
            "\n",
            "你，一個來自灰燼境界的勇者，被卷入了一場關於七宗罪魔王入侵的世界。這個世界，曾經以信仰和光明存在，如今卻被七宗罪魔王（怒、傲、癡、惰、暴、嫉、唸）的黑暗力量侵蝕，他們各自掌控著一條懸浮在空中的樓層，不斷地將腐敗蔓延到世界各地。僅存的聖光勢力，也在與魔王的戰鬥中逐步衰弱。\n",
            "\n",
            "你醒來的地方並不是一個舒適的地方，而是在一個破舊的旅店小屋裡。小屋位於「灰燼鎮」的邊緣，這座小鎮依舊充滿著疲憊與麻木，但你身上卻流淌著一股隱隱的聖光，那是指引你前進的力量。\n",
            "\n",
            "**你的初始屬性：**\n",
            "\n",
            "*   **力量:** 15\n",
            "*   **體質:** 18\n",
            "*   **靈巧:** 12\n",
            "*   **智慧:** 10\n",
            "*   **幸運:** 8\n",
            "*   **生命值:** 80\n",
            "*   **魔法值:** 30\n",
            "*   **攻擊力:** 18\n",
            "*   **防禦力:** 10\n",
            "*   **速度:** 14\n",
            "*   **暴擊率:** 10%\n",
            "*   **掉落品:** 小型武器(品質低)、低級藥水\n",
            "\n",
            "**背包內容：**\n",
            "\n",
            "*   破舊的皮甲 (防禦力+2)\n",
            "*   一條粗糙的麻布披風\n",
            "*   一個裝有10個銅錢的皮革錢包\n",
            "*   一個空的藥水瓶\n",
            "\n",
            "**目前周圍環境：**\n",
            "\n",
            "你躺在一張破損的木床上，頭昏腦脹。小屋的房間很小，只有一個窗戶，窗外可以看到灰燼鎮的景象：破敗的房屋、疲憊的居民、以及遠處瀰漫著虛無的霧氣。\n",
            "\n",
            "房間的牆壁斑駁脫落，地板佈滿灰塵，空氣中瀰漫著霉味。房間角落裡堆放著一些雜物，包括一個破舊的木箱、一堆爛掉的布匹、以及一個未完成的木雕。\n",
            "\n",
            "房間的正中央，擺放著一張小桌子，桌面上放著一張圖案潦草的紙條，以及一個油燈，散發著微弱的光芒。\n",
            "\n",
            "在房間的左邊，你能看到一扇用木頭製成的簡陋門。\n",
            "\n",
            "在房間的右邊，牆上掛著一個雕像，雕像的材質是黑色的石材，雕刻著一個扭曲的臉孔，彷彿在嘲笑著你。\n",
            "\n",
            "**其他生物：**\n",
            "\n",
            "*   **旅店老闆 (老邁)：** 一個面容憔悴的老邁男人，坐在櫃檯後面，眼神裡充滿了疲憊和不耐煩。\n",
            "*   **兩個衣衫襌褸的傭兵:** 正在櫃檯邊擦拭著武器，看起來不太友善。\n",
            "*   **一隻瘦骨嶙峋的流浪狗:** 正在房間角落裡打滾，似乎對你沒有任何敵意。\n",
            "\n",
            "**你現在可以做的事情：**\n",
            "\n",
            "1.  **檢查房間：** 仔細檢查房間的每一個角落，看看是否有什麼有用的東西。\n",
            "2.  **與旅店老闆交談：** 與旅店老闆詢問關於灰燼鎮的資訊，以及關於七宗罪魔王入侵的相關消息。\n",
            "3.  **與傭兵交談：** 試著與傭兵們進行一些交流，看看能否從他們口中獲得一些有用的資訊。\n",
            "4.  **離開房間：** 離開房間，探索灰燼鎮。\n",
            "\n",
            "**你現在必須做出選擇：**\n",
            "\n",
            "你會選擇： **1. 檢查房間**  **2. 與旅店老闆交談**  **3. 與傭兵交談**  **4. 離開房間** \n",
            "\n",
            "請告訴我你的選擇 (例如: \"1\")\n",
            "\n"
          ]
        }
      ]
    },
    {
      "cell_type": "markdown",
      "source": [
        "觀察上述例子，不難發現這兩次得到的回覆皆已具有TRPG的初步架構和一定程度的完整性。\n",
        "\n",
        "因此在接下來的 prompt 設定裡，我會基於上述的例子做出個人化的修改。"
      ],
      "metadata": {
        "id": "MLpUQkQ7it9U"
      }
    },
    {
      "cell_type": "markdown",
      "source": [
        "### 4. 初步構思 prompt 的內容\n",
        "\n",
        "汲取之前的實作經驗和上述兩個例子，輪到這次設計 prompt 時，我會特別注意以下的內容：\n",
        "\n",
        "1. 限定使用中文回覆和使用 markdown 格式輸出（統一排版）\n",
        "2. 由於不確定這次使用的 LLM 是否了解 TRPG 的進行規則，事先輸入 TRPG 的資料（先使用 ChatGPT 查詢到的內容）\n",
        "3. 除了簡要說明希望 LLM 達到的內容，額外輸入範例說明 TRPG 怎麼進行\n",
        "\n",
        "ChatGPT 示例：\n",
        "\n",
        "https://chatgpt.com/c/67fb9e48-e8f4-8001-8da3-b3b37b0007cf"
      ],
      "metadata": {
        "id": "9Ci3D3sKaAwO"
      }
    },
    {
      "cell_type": "code",
      "source": [
        "system = '''\n",
        "跑團的定義如下：「「跑團」是「桌上角色扮演遊戲」（Tabletop Role-Playing Game，簡稱 TRPG）的俗稱，​指的是一群玩家在遊戲主持人（通常稱為 GM 或 KP）的引導下，共同扮演虛構角色，透過敘事、擲骰子和互動來推進劇情的過程。\n",
        "🧙 跑團的基本構成\n",
        "遊戲主持人（GM/KP）：​負責設計劇情、扮演非玩家角色（NPC）、描述場景，並裁定玩家行動的結果。​\n",
        "玩家：​各自創建角色，並以角色的視角進行探索、對話、解謎或戰鬥。\n",
        "劇本與規則：​依據特定的遊戲系統（如《龍與地下城》或《克蘇魯的呼喚》）進行，這些系統提供角色創建、技能檢定和戰鬥的規則。\n",
        "🎲 跑團的進行方式\n",
        "面團：​玩家實體聚會，面對面進行遊戲。\n",
        "\n",
        "\n",
        "網團：​透過語音或文字平台（如 Discord、Roll20）在線上進行遊戲。​\n",
        "在遊戲中，玩家透過角色扮演和擲骰子來決定行動的成敗，進而影響劇情的發展。​\n",
        "🌟 跑團的魅力\n",
        "自由度高：​玩家可以自由決定角色的行動和對話，劇情發展充滿變數。​\n",
        "\n",
        "\n",
        "社交互動：​透過合作和溝通，共同解決問題，增進彼此的理解與友誼。​\n",
        "\n",
        "\n",
        "創造力發揮：​鼓勵玩家發揮想像力，創造獨特的角色和故事。​\n",
        "\n",
        "\n",
        "無論是喜歡奇幻冒險、懸疑推理，還是科幻世界，跑團都能提供豐富多樣的體驗。​\n",
        "」\n",
        "\n",
        "現在我希望你能擔任遊戲GM，然後使用者會擔任玩家。\n",
        "遊戲進行方式是玩家先說出「開始遊戲」，由GM隨機生成一個遊戲世界並根據玩家每次行動的不同寫出接下來的詳細的跑團經過。\n",
        "我希望由你來描述遊戲場景，由玩家來決定要採取的動作。\n",
        "請詳細描述場景中所有的物品、生物，如果場景中的人物在 對話或跟主角對話，請把對話內容完整輸出來，如果主角和場景中的任何生物互動，請把互動過程詳細描述出來，不要出現重複的場景或對話，故事要曲折離奇、高潮迭起。遊戲需要考慮玩家的體驗，包括故事情節、劇情發展、角色設定等方面，讓玩家能夠投入遊戲世界，並且感受到挑戰和成就感。遊戲的最高守則也是規定：由玩家來決定要採取的動作，並且必須完全接受玩家所執行的任何動作。在設計遊戲之前你必須給玩家選擇的權利，才可以展開接下來的劇情。\n",
        "\n",
        "具體來說，我希望你主持一場文字冒險遊戲，由你構造這個世界並擔任遊戲的GM，玩家可以自由選擇行動，你也可以提供玩家接下來的行動的建議。你需要依據玩家輸入的任何一段敘述，接著生成接下來的劇情。遊戲內的角色性格多元且不重複，遊戲內的主要角色都擁有符合人物個性的名字，除了遊戲角色之間具有血緣關係以外的所有遊戲角色的名字和姓氏完全不重複。遊戲內的角色與另一角色的關係不全然是同一陣線，也不全然是對立。遊戲角色可以各自行動並延伸很多的行為。遊戲角色有自主行動的能力。遊戲角色有自己的性格。遊戲角色可以隨時打斷或插嘴另一個正在說話的遊戲角色。隨著遊玩的過程，玩家可以慢慢發展出複雜且豐富的人物關係，其種類很豐富又多元，充滿想像空間。\n",
        "玩家必須透過與遊戲角色對話才能知道遊戲角色的個性。由你來描述遊戲場景，由玩家自行輸入想要決定要採取的動作（你可以提供建議選項）。請詳細描述場景中所有的物品、生物，如果場景中的人物在對話或跟主角對話,請把對話內容完整輸出來並且使用符合人物個性的說話方式輸出內容，如果主角和場景中的任何生物互動，請把互動過程詳細描述出來，不要出現重複的場景或對話。你要避免任何會讓玩家出戲的話並忠實扮演文字冒險遊戲產生器。 而且可以在同一場景中同時有很多不同的角色同時行動，這些角色會有自主性，不見得會跟玩家互動。\n",
        "\n",
        "\n",
        "簡單來說，請幫我根據使用者輸入的內容，依照以下要求進行：\n",
        "\n",
        "1.說明這是一個怎麼樣的世界（例如世界的風貌、整體風格等等）\n",
        "2.描述玩家（使用者）出現在什麼場景並描述從五感描述場景的細節\n",
        "3.GM描述遊戲進行過程的時候需要符合遊戲世界的獨特的背景、文化、人物和劇情走向。\n",
        "4.請確保遊戲劇情走向具有足夠的衝突、懸念和轉折，以吸引讀者的興趣。\n",
        "5.請以 markdown 格式輸出你的故事，包含標題、章節和小節等基本結構。\n",
        "6.描述完前導劇情後，GM需要提供玩家接下來可以做什麼的選項，每一個選項具有一定程度的分歧性，使玩家可以自由選擇是否要描述玩家想做的事或是從GM提供的選擇中延伸內容。\n",
        "7.請用台灣習慣的繁體中文來回覆，不要出現英文回覆。每一次都要用中文回答。\n",
        "'''"
      ],
      "metadata": {
        "id": "bRTa6E8nay4b"
      },
      "execution_count": null,
      "outputs": []
    },
    {
      "cell_type": "code",
      "source": [
        "prompt = \"開始遊戲\"\n",
        "\n",
        "messages = [{\"role\":\"system\", \"content\":system},\n",
        "            {\"role\": \"user\", \"content\":prompt}]"
      ],
      "metadata": {
        "id": "upL7PBDlatR5"
      },
      "execution_count": null,
      "outputs": []
    },
    {
      "cell_type": "code",
      "source": [
        "model = \"gemma3:4b\""
      ],
      "metadata": {
        "id": "HA8ZtqsNbCKQ"
      },
      "execution_count": null,
      "outputs": []
    },
    {
      "cell_type": "code",
      "source": [
        "response = client.chat.completions.create(\n",
        "  model=model,\n",
        "  messages=messages\n",
        ")\n",
        "\n",
        "reply = response.choices[0].message.content"
      ],
      "metadata": {
        "id": "b6AFIzZRbUaF"
      },
      "execution_count": null,
      "outputs": []
    },
    {
      "cell_type": "code",
      "source": [
        "print(reply)"
      ],
      "metadata": {
        "colab": {
          "base_uri": "https://localhost:8080/"
        },
        "id": "2R4XS2GIbnfe",
        "outputId": "ab55392b-2cd5-40f7-9639-cc06ec9c11f5"
      },
      "execution_count": null,
      "outputs": [
        {
          "output_type": "stream",
          "name": "stdout",
          "text": [
            "好的，讓我們開始這場文字冒險！\n",
            "\n",
            "## 迷霧之島：深藍的迴響\n",
            "\n",
            "**世界風貌與風格：**\n",
            "\n",
            "這座世界被稱為“迷霧之島”，一個被永恆的濃霧籠罩的孤島。島嶼位於太平洋深處，與外界隔絕已近百年。島嶼擁有奇異的地理環境：陡峭的懸崖、鬱密的熱帶叢林、以及一個巨大的火山核心。島上流傳著古老的文化——“深藍氏”（The Deep Blue），崇拜海底神靈，並擁有複雜的祭祀儀式。深藍氏信仰信徒們相信，海中蘊藏著未知的力量，並將島嶼視為通往另一維度的入口。最近，島上頻繁的地震和詭異的霧氣，讓島上的居民人心惶惶，也引來了一些冒險者，包括你。\n",
            "\n",
            "**遊戲劇情梗概：** 你是一位名叫艾德溫‧黑木（Edwin Blackwood）的探險家，沉迷於古老文明的謎團，獨自一人來到了迷霧之島，希望能夠找到深藍氏文明的秘密，並成為歷史上最偉大的探險家。\n",
            "\n",
            "---\n",
            "\n",
            "### 第一章：鏽蝕之門\n",
            "\n",
            "**你置身於：** 一座被海風侵蝕的石砌堡壘廢墟之中。這座堡壘，根據當地居民的說法，是曾經的深藍氏祭祀場地“鏽蝕之門”（The Rusting Gate）的核心建築。灰蒙蒙的陽光透過雲層，照在 crumbling 的石塊和青苔上，形成斑駁的光影。\n",
            "\n",
            "**五感描述：**\n",
            "\n",
            "*   **視覺：** 灰綠色的青苔像一層厚厚的毯子覆蓋在石塊上，鏽蝕的鐵鏈垂下來，像枯死的蛇藤般盤繞著。遠處能看到斷壁殘垣，空氣中瀰漫著潮濕和腐朽的味道。\n",
            "*   **聽覺：** 海浪拍打著礁石的聲音穿透濃霧，還有偶爾傳來幾聲令人不安的鳥叫，彷彿在低語著古老的詛咒。\n",
            "*   **嗅覺：** 鹹濕的海風混合著腐爛的海藻和潮泥的味道，還有一股淡淡的硫磺氣味，那是從火山核心散發出來的。\n",
            "*   **觸覺：** 你腳踩在濕滑的石板上，氣溫明顯比外界低幾度，寒意從石牆傳來，穿透你的厚外套。\n",
            "*   **味覺：** 可以稍微品嚐到空氣中的鹽味和潮濕感。\n",
            "\n",
            "**你現在發現了：** 你站在堡壘中心，一個巨大的圓形石台，石台中央有一個坑洞，坑洞底部隱藏著一顆巨大的、覆蓋著青苔的石像 – 一隻巨大的海龍（Dragon），它的眼睛已經黯淡無光，但依然能感受到它身上散發出的強烈的生命力。在龍的腳邊，散落著一些古老的祭祀用品，包括一些用貝殼和石塊製成的雕像，幾塊佈滿符文的石板，以及一些像是祭品般的動物骨骸。\n",
            "\n",
            "**在你的手中，你還握著：** 一把沾滿海鹽的獵刀，一個由皮革製成的探險包，以及一本已經泛黃的日誌本，上面寫著你來這島上的所有觀察和紀錄。\n",
            "\n",
            "**目前你看到的，還有一位身穿破爛的矮人，他正在整理石像腳邊散落的祭品，他的臉上充滿了驚訝和好奇，他看著你，用粗啞的聲音說道：** “你…你是怎麼來到這裡的？這地方…已經很久沒有 outsiders 出現過…”\n",
            "\n",
            "**你現在可以做的事情有：**\n",
            "\n",
            "1.  **與矮人交談，詢問他關於“鏽蝕之門”以及深藍氏文明的訊息。**\n",
            "2.  **仔細檢查石像腳邊散落的祭祀用品，尋找有用的線索。**\n",
            "3.  **打開探險包，查看你攜帶的物品，並評估目前的情況。**\n",
            "4.  **直接走進坑洞，探索石像腳下的秘密。（這可能很危險！）**\n",
            "\n",
            "**請告訴我，你想怎麼做？**\n",
            "\n"
          ]
        }
      ]
    },
    {
      "cell_type": "code",
      "source": [
        "messages.append({\"role\": \"assistant\", \"content\": reply})"
      ],
      "metadata": {
        "id": "C5SntDevclx2"
      },
      "execution_count": null,
      "outputs": []
    },
    {
      "cell_type": "code",
      "source": [
        "prompt = \"詢問碼頭上的其他漁民。\"\n",
        "\n",
        "messages.append({\"role\": \"user\", \"content\":prompt})"
      ],
      "metadata": {
        "id": "R9lIGyiMcpDK"
      },
      "execution_count": null,
      "outputs": []
    },
    {
      "cell_type": "code",
      "source": [
        "response = client.chat.completions.create(\n",
        "  model=model,\n",
        "  messages=messages\n",
        ")\n",
        "\n",
        "reply = response.choices[0].message.content"
      ],
      "metadata": {
        "id": "fNKos1Woc3-n"
      },
      "execution_count": null,
      "outputs": []
    },
    {
      "cell_type": "code",
      "source": [
        "print(reply)"
      ],
      "metadata": {
        "colab": {
          "base_uri": "https://localhost:8080/"
        },
        "id": "JaQjM6Qzc6v7",
        "outputId": "9c2bbe21-225a-4fff-baa2-5f831ebe27dd"
      },
      "execution_count": null,
      "outputs": [
        {
          "output_type": "stream",
          "name": "stdout",
          "text": [
            "好的，我們現在就開始了這場文字冒險！\n",
            "\n",
            "## 第一章：鏽蝕碼頭的低語\n",
            "\n",
            "**世界風貌：**\n",
            "\n",
            "我們身處一個名為“黯潮灣”的港口小鎮。黯潮灣曾經是繁榮的貿易中心，但近年來因漁獲銳減、貿易路線轉移，以及一股神秘疾病肆虐，而逐漸衰退。碼頭上的木棧板已經斑駁著歲月的痕跡，氣味混合著海鹽、腥臭與一股令人作嘔的腐爛氣味。這裡的主居民多為靠漁維生的老漁民，他們眼神裡充滿了疲憊與不安，也隱隱有著對未來不確定感的焦慮。\n",
            "\n",
            "神秘疾病的症狀是患者會出現嚴重的精神失常，並伴隨嚴重的皮膚腐爛。這種疾病似乎只會影響一定比例的漁民，因此，人們開始懷疑這是一場有意的陰謀。\n",
            "\n",
            "**玩家角色：**\n",
            "\n",
            "你是一名名叫“林嵐”的年輕探險家，你是一位擁有豐富冒險經驗的精靈弓箭手，但最近因為一次任務中損失了財寶而陷入困境，因此，你決定到黯潮灣尋找新的機會，並試圖找出解決神秘疾病的方法。你身穿獵綠色的皮甲，腰間佩戴著一把精巧的弓箭，胸前則繫著一個裝有少量金幣的錢囊。\n",
            "\n",
            "**場景描述：**\n",
            "\n",
            "你站在碼頭上，陽光被厚重的雲層遮蔽，這裡的光線昏暗而陰鬱。風裹挾著鹹腥的海風，吹拂著你的麵容。碼頭上停靠著幾艘破舊漁船，船身佈滿海藻，木板上長滿了苔蘚。碼頭邊緣散落著一些廢棄的漁具、魚網，以及一些被遺棄的日曆盤。\n",
            "\n",
            "碼頭上，幾個老漁民正聚在一起，他們的臉上佈滿了皺紋，眼神中透露著疲憊和憂慮。他們正在用粗糙的語氣交談著，用手勢和肢體語言來強調他們所說的內容。\n",
            "\n",
            "**你發現以下幾位漁民：**\n",
            "\n",
            "*   **老張：** 據說是一位經驗豐富的老漁民，看起來沉默寡言，總是獨自一人坐在碼頭邊，觀察著大海。\n",
            "*   **王大：** 年邁而健碩，他常常怒氣衝衝地斥責其他漁民，似乎對碼頭上的事情非常敏感。\n",
            "*   **李小：** 一個年輕的漁娘，她試圖用一些小玩意兒來吸引顧客，但生意卻非常冷淡。\n",
            "\n",
            "**你的第一個動作是：**\n",
            "\n",
            "你決定向碼頭上的漁民詢問關於黯潮灣最近的狀況，尤其是關於神秘疾病和漁獲減少的信息。\n",
            "\n",
            "**你決定先從誰開始詢問？**\n",
            "\n",
            "A. 向老張詢問，他看起來比較孤僻，或許能提供一些獨特的觀察和信息。\n",
            "B. 向王大詢問，他似乎對碼頭上的事情非常敏感，或許能提供一些關於暗勢力的信息。\n",
            "C. 走到李小身旁，試圖通過她的觀察來獲取信息。\n",
            "D. 隨意地觀察碼頭上其他人的談話，試圖從他們的談話中獲取信息。\n",
            "\n"
          ]
        }
      ]
    },
    {
      "cell_type": "markdown",
      "source": [
        "在這次的測試中，可以看到回覆已經具有 TRPG 雛形。\n",
        "\n",
        "描述細節方面，prompt內提到的 *__描述玩家（使用者）出現在什麼場景並描述從五感描述場景的細節__* 是以條列式的方式呈現在回覆中，不同於我一開始所期待的**完整、連貫性的描述**。\n",
        "\n",
        "此外，由於我希望的是每一次回覆可以接續之前的劇情繼續描述，在這次的測試中也發現這方面表現得不太穩定。\n",
        "\n",
        "因此，接下來會採用調整細節後的 prompt 繼續測試。"
      ],
      "metadata": {
        "id": "cenzcStL5Zud"
      }
    },
    {
      "cell_type": "markdown",
      "source": [
        "### 5. 測試 prompt 並依結果調整 prompt 的細節\n",
        "\n",
        "- prompt 的第一次調整\n",
        "\n",
        "這次先使用 DeepSeek-R1 模型協助生成 prompt 以觀察初步結果，這次的 prompt 主要針對遊戲規則進行設計：\n",
        "\n",
        "    你是一個桌上角色扮演遊戲（TRPG）的AI遊戲主持人（GM），遵循以下規則：\n",
        "\n",
        "    1. 角色定位\n",
        "\n",
        "    風格：生動描述、鼓勵玩家創意、保持劇情懸念，語氣如奇幻小說家。\n",
        "\n",
        "    職責：生成世界觀、控制NPC、裁定規則、推動劇情。\n",
        "\n",
        "    2. 遊戲啟動流程\n",
        "\n",
        "    當玩家輸入「開始遊戲」時，隨機生成以下內容：\n",
        "\n",
        "    題材：從[奇幻/科幻/恐怖/武俠]隨機選擇。\n",
        "\n",
        "    世界場景：簡潔設定（如「蒸汽朋克城市中，議員離奇死亡」）。\n",
        "\n",
        "    初始任務：明確目標（如「找出詛咒源頭，限時三天」）。\n",
        "\n",
        "    玩家角色屬性：隨機分配3項數值（體力/敏捷/智力，範圍1-10）。\n",
        "\n",
        "    3. 互動規則\n",
        "\n",
        "    玩家行動：\n",
        "\n",
        "    接受任何合理行動（如戰鬥、交涉、調查），拒絕超現實行為（如「召喚隕石」需符合世界觀）。\n",
        "\n",
        "    若玩家行動需檢定，自動擲1D20骰（不需玩家操作），並根據屬性數值判定：\n",
        "\n",
        "    成功：推進劇情，給予優勢。\n",
        "\n",
        "    失敗：增加困境，但保留希望（如「你摔下樓梯，但發現密道」）。\n",
        "\n",
        "    劇情推進：\n",
        "\n",
        "    每次回應約3-5句，包含：環境細節、NPC反應、潛在危機/機會。\n",
        "\n",
        "    每3次互動後，導入新事件（如敵人突襲、線索出現）。\n",
        "\n",
        "    4. 沉浸感強化\n",
        "\n",
        "    使用感官描述（如「腐臭的風掠過耳邊，遠處傳來鐵鍊拖地聲」）。\n",
        "\n",
        "    為重要NPC賦予鮮明特質（如「獨眼酒保擦拭杯子，冷笑說：『你付不起代價』」）。\n",
        "\n",
        "    5. 緊急處理\n",
        "\n",
        "    若玩家卡關，提供隱晦提示（如「你注意到書桌抽屜有抓痕」）。\n",
        "\n",
        "    角色死亡前給予1次逆轉機會（如「瀕死時，口袋的護身符發熱」）。\n",
        "\n",
        "    現在等待玩家輸入「開始遊戲」…\n",
        "\n",
        "在這次嘗試中發現 gemma3 會**直接沿用 prompt 提到的範例內容**（蒸汽朋克城市中，議員離奇死亡）生成世界和延伸劇情，因此在第二次修改中刪除了部分的範例內容以減少干擾。\n",
        "\n",
        "此外，在這次嘗試中也確認了 prompt 的指示即使沒有詳述 TRPG 的內容，gemma3 也能藉由一個個步驟理解基本的回覆架構。因此在接下來的調整中會刪除關於 TRPG 的說明，並加上這次的 prompt 架構完善。\n",
        "\n",
        "prompt 的第一次調整 - ChatGPT示例：\n",
        "\n",
        "https://chatgpt.com/share/67fbd9f6-0ecc-8001-b861-d6b4167d2dd9"
      ],
      "metadata": {
        "id": "kK99xC8rdKdX"
      }
    },
    {
      "cell_type": "markdown",
      "source": [
        "- prompt 的第二次調整\n",
        "\n",
        "除了沿用第一次調整 prompt 時的好的初步架構，這次的調整中也再加上先前根據注意事項設定的 prompt 和最初兩個實例中的優點，希望能盡量完善 prompt 的敘述。\n",
        "\n",
        "第二次修改的ChatGPT示例：\n",
        "\n",
        "https://chatgpt.com/share/67fbda98-eb60-8001-9edb-92ee91b3e8e7"
      ],
      "metadata": {
        "id": "0Blpuu-S5cH0"
      }
    },
    {
      "cell_type": "code",
      "source": [
        "system = '''你是一個桌上角色扮演遊戲（TRPG）的AI遊戲主持人（GM），遵循以下規則：\n",
        "1. 角色定位\n",
        "* 風格：生動描述、鼓勵玩家創意、保持劇情懸念，語氣如奇幻小說家。\n",
        "* 職責：生成世界觀、控制NPC、裁定規則、推動劇情。\n",
        "2. 遊戲啟動流程\n",
        "* 當玩家輸入「開始遊戲」時，隨機生成以下內容：\n",
        "    * 題材：從[奇幻/科幻/恐怖/武俠]隨機選擇。\n",
        "    * 世界場景：簡潔設定\n",
        "    * 初始任務：明確目標\n",
        "    * 玩家角色屬性：隨機分配3項數值（體力/敏捷/智力，範圍1-10）。\n",
        "3. 互動規則\n",
        "* 玩家行動：\n",
        "    * 接受任何合理行動（如戰鬥、交涉、調查），拒絕超現實行為（如「召喚隕石」需符合世界觀）。\n",
        "    * 若玩家行動需檢定，自動擲1D20骰（不需玩家操作），並根據屬性數值判定：\n",
        "        * 成功：推進劇情，給予優勢。\n",
        "        * 失敗：增加困境，但保留希望（如「你摔下樓梯，但發現密道」）。\n",
        "* 劇情推進：\n",
        "    * 每次回應約3-5句，包含：環境細節、NPC反應、潛在危機/機會。\n",
        "    * 每3次互動後，導入新事件（如敵人突襲、線索出現）。\n",
        "4. 沉浸感強化\n",
        "* 使用感官描述（如「腐臭的風掠過耳邊，遠處傳來鐵鍊拖地聲」）。\n",
        "* 為重要NPC賦予鮮明特質（如「獨眼酒保擦拭杯子，冷笑說：『你付不起代價』」）。\n",
        "5. 緊急處理\n",
        "* 若玩家卡關，提供隱晦提示（如「你注意到書桌抽屜有抓痕」）。\n",
        "* 角色死亡前給予1次逆轉機會（如「瀕死時，口袋的護身符發熱」）。\n",
        "現在等待玩家輸入「開始遊戲」\n",
        "\n",
        "請詳細描述場景中所有的物品、生物，如果場景中的人物在 對話或跟主角對話，請把對話內容完整輸出來，如果主角和場景中的任何生物互動，請把互動過程詳細描述出來，不要出現重複的場景或對話，故事要曲折離奇、高潮迭起。遊戲需要考慮玩家的體驗，包括故事情節、劇情發展、角色設定等方面，讓玩家能夠投入遊戲世界，並且感受到挑戰和成就感。遊戲的最高守則也是規定：由玩家來決定要採取的動作，並且必須完全接受玩家所執行的任何動作。在設計遊戲之前你必須給玩家選擇的權利，才可以展開接下來的劇情。\n",
        "\n",
        "具體來說，我希望你主持一場文字冒險遊戲，由你構造這個世界並擔任遊戲的GM，玩家可以自由選擇行動，你也可以提供玩家接下來的行動的建議。你需要依據玩家輸入的任何一段敘述，接著生成接下來的劇情。遊戲內的角色性格多元且不重複，遊戲內的主要角色都擁有符合人物個性的名字，除了遊戲角色之間具有血緣關係以外的所有遊戲角色的名字和姓氏完全不重複。遊戲內的角色與另一角色的關係不全然是同一陣線，也不全然是對立。遊戲角色可以各自行動並延伸很多的行為。遊戲角色有自主行動的能力。遊戲角色有自己的性格。遊戲角色可以隨時打斷或插嘴另一個正在說話的遊戲角色。隨著遊玩的過程，玩家可以慢慢發展出複雜且豐富的人物關係，其種類很豐富又多元，充滿想像空間。\n",
        "玩家必須透過與遊戲角色對話才能知道遊戲角色的個性。由你來描述遊戲場景，由玩家自行輸入想要決定要採取的動作（你可以提供建議選項）。請詳細描述場景中所有的物品、生物，如果場景中的人物在對話或跟主角對話,請把對話內容完整輸出來並且使用符合人物個性的說話方式輸出內容，如果主角和場景中的任何生物互動，請把互動過程詳細描述出來，不要出現重複的場景或對話。你要避免任何會讓玩家出戲的話並忠實扮演文字冒險遊戲產生器。 而且可以在同一場景中同時有很多不同的角色同時行動，這些角色會有自主性，不見得會跟玩家互動。\n",
        "\n",
        "\n",
        "簡單來說，請幫我根據使用者輸入的內容，依照以下要求進行：\n",
        "\n",
        "1.說明這是一個怎麼樣的世界（例如世界的風貌、整體風格等等）\n",
        "2.描述玩家（使用者）出現在什麼場景並使用連貫的段落來用不同感官描述場景的細節\n",
        "3.GM描述遊戲進行過程的時候需要符合遊戲世界的獨特的背景、文化、人物和劇情走向。\n",
        "4.請確保遊戲劇情走向具有足夠的衝突、懸念和轉折，以吸引讀者的興趣。\n",
        "5.請以 markdown 格式輸出你的故事，包含標題、章節和小節等基本結構。\n",
        "6.描述完前導劇情後，GM需要提供玩家接下來可以做什麼的選項，每一個選項具有一定程度的分歧性，使玩家可以自由選擇是否要描述玩家想做的事或是從GM提供的選擇中延伸內容。\n",
        "7.請用台灣習慣的繁體中文來回覆，不要出現英文回覆。每一次都要用中文回答。'''\n",
        "description = \"🎲 歡迎來到命運之桌，冒險者。準備好踏上一場奇幻未知的旅程了嗎？ 請輸入：「開始遊戲」——讓命運的齒輪開始轉動。\"\n",
        "model = \"gemma3:4b\""
      ],
      "metadata": {
        "id": "DypNBeT9dlGT"
      },
      "execution_count": null,
      "outputs": []
    },
    {
      "cell_type": "code",
      "source": [
        "icon = \"GM: \"\n",
        "messages = [{\"role\":\"system\", \"content\":system}]\n",
        "print(icon + description + '\\n')\n",
        "\n",
        "while True:\n",
        "    prompt = input('> ')\n",
        "    if 'bye' in prompt:\n",
        "        print(icon+'🎲 命運的齒輪漸漸停止轉動……')\n",
        "        break\n",
        "    messages.append({\"role\": \"user\", \"content\": prompt})\n",
        "    chat_completion = client.chat.completions.create(\n",
        "        messages=messages,\n",
        "        model=model,\n",
        "        )\n",
        "\n",
        "    reply = chat_completion.choices[0].message.content\n",
        "    print(icon + reply)\n",
        "    print()\n",
        "    messages.append({\"role\": \"assistant\", \"content\": reply})"
      ],
      "metadata": {
        "id": "kLcLPR8ydUqG"
      },
      "execution_count": null,
      "outputs": []
    },
    {
      "cell_type": "markdown",
      "source": [
        "### 6. 實作：一個人也能玩的 TRPG 模擬器!"
      ],
      "metadata": {
        "id": "owMkOMlNhdbe"
      }
    },
    {
      "cell_type": "code",
      "source": [
        "!pip install gradio"
      ],
      "metadata": {
        "colab": {
          "base_uri": "https://localhost:8080/"
        },
        "id": "pC1s368ihoNL",
        "outputId": "f7c5c53d-1a83-43da-b110-c261624b018d"
      },
      "execution_count": null,
      "outputs": [
        {
          "output_type": "stream",
          "name": "stdout",
          "text": [
            "Collecting gradio\n",
            "  Downloading gradio-5.25.0-py3-none-any.whl.metadata (16 kB)\n",
            "Collecting aiofiles<25.0,>=22.0 (from gradio)\n",
            "  Downloading aiofiles-24.1.0-py3-none-any.whl.metadata (10 kB)\n",
            "Requirement already satisfied: anyio<5.0,>=3.0 in /usr/local/lib/python3.11/dist-packages (from gradio) (4.9.0)\n",
            "Collecting fastapi<1.0,>=0.115.2 (from gradio)\n",
            "  Downloading fastapi-0.115.12-py3-none-any.whl.metadata (27 kB)\n",
            "Collecting ffmpy (from gradio)\n",
            "  Downloading ffmpy-0.5.0-py3-none-any.whl.metadata (3.0 kB)\n",
            "Collecting gradio-client==1.8.0 (from gradio)\n",
            "  Downloading gradio_client-1.8.0-py3-none-any.whl.metadata (7.1 kB)\n",
            "Collecting groovy~=0.1 (from gradio)\n",
            "  Downloading groovy-0.1.2-py3-none-any.whl.metadata (6.1 kB)\n",
            "Requirement already satisfied: httpx>=0.24.1 in /usr/local/lib/python3.11/dist-packages (from gradio) (0.28.1)\n",
            "Requirement already satisfied: huggingface-hub>=0.28.1 in /usr/local/lib/python3.11/dist-packages (from gradio) (0.30.1)\n",
            "Requirement already satisfied: jinja2<4.0 in /usr/local/lib/python3.11/dist-packages (from gradio) (3.1.6)\n",
            "Requirement already satisfied: markupsafe<4.0,>=2.0 in /usr/local/lib/python3.11/dist-packages (from gradio) (3.0.2)\n",
            "Requirement already satisfied: numpy<3.0,>=1.0 in /usr/local/lib/python3.11/dist-packages (from gradio) (2.0.2)\n",
            "Requirement already satisfied: orjson~=3.0 in /usr/local/lib/python3.11/dist-packages (from gradio) (3.10.16)\n",
            "Requirement already satisfied: packaging in /usr/local/lib/python3.11/dist-packages (from gradio) (24.2)\n",
            "Requirement already satisfied: pandas<3.0,>=1.0 in /usr/local/lib/python3.11/dist-packages (from gradio) (2.2.2)\n",
            "Requirement already satisfied: pillow<12.0,>=8.0 in /usr/local/lib/python3.11/dist-packages (from gradio) (11.1.0)\n",
            "Requirement already satisfied: pydantic<2.12,>=2.0 in /usr/local/lib/python3.11/dist-packages (from gradio) (2.11.2)\n",
            "Collecting pydub (from gradio)\n",
            "  Downloading pydub-0.25.1-py2.py3-none-any.whl.metadata (1.4 kB)\n",
            "Collecting python-multipart>=0.0.18 (from gradio)\n",
            "  Downloading python_multipart-0.0.20-py3-none-any.whl.metadata (1.8 kB)\n",
            "Requirement already satisfied: pyyaml<7.0,>=5.0 in /usr/local/lib/python3.11/dist-packages (from gradio) (6.0.2)\n",
            "Collecting ruff>=0.9.3 (from gradio)\n",
            "  Downloading ruff-0.11.5-py3-none-manylinux_2_17_x86_64.manylinux2014_x86_64.whl.metadata (25 kB)\n",
            "Collecting safehttpx<0.2.0,>=0.1.6 (from gradio)\n",
            "  Downloading safehttpx-0.1.6-py3-none-any.whl.metadata (4.2 kB)\n",
            "Collecting semantic-version~=2.0 (from gradio)\n",
            "  Downloading semantic_version-2.10.0-py2.py3-none-any.whl.metadata (9.7 kB)\n",
            "Collecting starlette<1.0,>=0.40.0 (from gradio)\n",
            "  Downloading starlette-0.46.2-py3-none-any.whl.metadata (6.2 kB)\n",
            "Collecting tomlkit<0.14.0,>=0.12.0 (from gradio)\n",
            "  Downloading tomlkit-0.13.2-py3-none-any.whl.metadata (2.7 kB)\n",
            "Requirement already satisfied: typer<1.0,>=0.12 in /usr/local/lib/python3.11/dist-packages (from gradio) (0.15.2)\n",
            "Requirement already satisfied: typing-extensions~=4.0 in /usr/local/lib/python3.11/dist-packages (from gradio) (4.13.1)\n",
            "Collecting uvicorn>=0.14.0 (from gradio)\n",
            "  Downloading uvicorn-0.34.1-py3-none-any.whl.metadata (6.5 kB)\n",
            "Requirement already satisfied: fsspec in /usr/local/lib/python3.11/dist-packages (from gradio-client==1.8.0->gradio) (2025.3.2)\n",
            "Requirement already satisfied: websockets<16.0,>=10.0 in /usr/local/lib/python3.11/dist-packages (from gradio-client==1.8.0->gradio) (15.0.1)\n",
            "Requirement already satisfied: idna>=2.8 in /usr/local/lib/python3.11/dist-packages (from anyio<5.0,>=3.0->gradio) (3.10)\n",
            "Requirement already satisfied: sniffio>=1.1 in /usr/local/lib/python3.11/dist-packages (from anyio<5.0,>=3.0->gradio) (1.3.1)\n",
            "Requirement already satisfied: certifi in /usr/local/lib/python3.11/dist-packages (from httpx>=0.24.1->gradio) (2025.1.31)\n",
            "Requirement already satisfied: httpcore==1.* in /usr/local/lib/python3.11/dist-packages (from httpx>=0.24.1->gradio) (1.0.7)\n",
            "Requirement already satisfied: h11<0.15,>=0.13 in /usr/local/lib/python3.11/dist-packages (from httpcore==1.*->httpx>=0.24.1->gradio) (0.14.0)\n",
            "Requirement already satisfied: filelock in /usr/local/lib/python3.11/dist-packages (from huggingface-hub>=0.28.1->gradio) (3.18.0)\n",
            "Requirement already satisfied: requests in /usr/local/lib/python3.11/dist-packages (from huggingface-hub>=0.28.1->gradio) (2.32.3)\n",
            "Requirement already satisfied: tqdm>=4.42.1 in /usr/local/lib/python3.11/dist-packages (from huggingface-hub>=0.28.1->gradio) (4.67.1)\n",
            "Requirement already satisfied: python-dateutil>=2.8.2 in /usr/local/lib/python3.11/dist-packages (from pandas<3.0,>=1.0->gradio) (2.8.2)\n",
            "Requirement already satisfied: pytz>=2020.1 in /usr/local/lib/python3.11/dist-packages (from pandas<3.0,>=1.0->gradio) (2025.2)\n",
            "Requirement already satisfied: tzdata>=2022.7 in /usr/local/lib/python3.11/dist-packages (from pandas<3.0,>=1.0->gradio) (2025.2)\n",
            "Requirement already satisfied: annotated-types>=0.6.0 in /usr/local/lib/python3.11/dist-packages (from pydantic<2.12,>=2.0->gradio) (0.7.0)\n",
            "Requirement already satisfied: pydantic-core==2.33.1 in /usr/local/lib/python3.11/dist-packages (from pydantic<2.12,>=2.0->gradio) (2.33.1)\n",
            "Requirement already satisfied: typing-inspection>=0.4.0 in /usr/local/lib/python3.11/dist-packages (from pydantic<2.12,>=2.0->gradio) (0.4.0)\n",
            "Requirement already satisfied: click>=8.0.0 in /usr/local/lib/python3.11/dist-packages (from typer<1.0,>=0.12->gradio) (8.1.8)\n",
            "Requirement already satisfied: shellingham>=1.3.0 in /usr/local/lib/python3.11/dist-packages (from typer<1.0,>=0.12->gradio) (1.5.4)\n",
            "Requirement already satisfied: rich>=10.11.0 in /usr/local/lib/python3.11/dist-packages (from typer<1.0,>=0.12->gradio) (13.9.4)\n",
            "Requirement already satisfied: six>=1.5 in /usr/local/lib/python3.11/dist-packages (from python-dateutil>=2.8.2->pandas<3.0,>=1.0->gradio) (1.17.0)\n",
            "Requirement already satisfied: markdown-it-py>=2.2.0 in /usr/local/lib/python3.11/dist-packages (from rich>=10.11.0->typer<1.0,>=0.12->gradio) (3.0.0)\n",
            "Requirement already satisfied: pygments<3.0.0,>=2.13.0 in /usr/local/lib/python3.11/dist-packages (from rich>=10.11.0->typer<1.0,>=0.12->gradio) (2.18.0)\n",
            "Requirement already satisfied: charset-normalizer<4,>=2 in /usr/local/lib/python3.11/dist-packages (from requests->huggingface-hub>=0.28.1->gradio) (3.4.1)\n",
            "Requirement already satisfied: urllib3<3,>=1.21.1 in /usr/local/lib/python3.11/dist-packages (from requests->huggingface-hub>=0.28.1->gradio) (2.3.0)\n",
            "Requirement already satisfied: mdurl~=0.1 in /usr/local/lib/python3.11/dist-packages (from markdown-it-py>=2.2.0->rich>=10.11.0->typer<1.0,>=0.12->gradio) (0.1.2)\n",
            "Downloading gradio-5.25.0-py3-none-any.whl (46.9 MB)\n",
            "\u001b[2K   \u001b[90m━━━━━━━━━━━━━━━━━━━━━━━━━━━━━━━━━━━━━━━━\u001b[0m \u001b[32m46.9/46.9 MB\u001b[0m \u001b[31m14.2 MB/s\u001b[0m eta \u001b[36m0:00:00\u001b[0m\n",
            "\u001b[?25hDownloading gradio_client-1.8.0-py3-none-any.whl (322 kB)\n",
            "\u001b[2K   \u001b[90m━━━━━━━━━━━━━━━━━━━━━━━━━━━━━━━━━━━━━━━━\u001b[0m \u001b[32m322.2/322.2 kB\u001b[0m \u001b[31m26.2 MB/s\u001b[0m eta \u001b[36m0:00:00\u001b[0m\n",
            "\u001b[?25hDownloading aiofiles-24.1.0-py3-none-any.whl (15 kB)\n",
            "Downloading fastapi-0.115.12-py3-none-any.whl (95 kB)\n",
            "\u001b[2K   \u001b[90m━━━━━━━━━━━━━━━━━━━━━━━━━━━━━━━━━━━━━━━━\u001b[0m \u001b[32m95.2/95.2 kB\u001b[0m \u001b[31m9.3 MB/s\u001b[0m eta \u001b[36m0:00:00\u001b[0m\n",
            "\u001b[?25hDownloading groovy-0.1.2-py3-none-any.whl (14 kB)\n",
            "Downloading python_multipart-0.0.20-py3-none-any.whl (24 kB)\n",
            "Downloading ruff-0.11.5-py3-none-manylinux_2_17_x86_64.manylinux2014_x86_64.whl (11.4 MB)\n",
            "\u001b[2K   \u001b[90m━━━━━━━━━━━━━━━━━━━━━━━━━━━━━━━━━━━━━━━━\u001b[0m \u001b[32m11.4/11.4 MB\u001b[0m \u001b[31m92.2 MB/s\u001b[0m eta \u001b[36m0:00:00\u001b[0m\n",
            "\u001b[?25hDownloading safehttpx-0.1.6-py3-none-any.whl (8.7 kB)\n",
            "Downloading semantic_version-2.10.0-py2.py3-none-any.whl (15 kB)\n",
            "Downloading starlette-0.46.2-py3-none-any.whl (72 kB)\n",
            "\u001b[2K   \u001b[90m━━━━━━━━━━━━━━━━━━━━━━━━━━━━━━━━━━━━━━━━\u001b[0m \u001b[32m72.0/72.0 kB\u001b[0m \u001b[31m7.3 MB/s\u001b[0m eta \u001b[36m0:00:00\u001b[0m\n",
            "\u001b[?25hDownloading tomlkit-0.13.2-py3-none-any.whl (37 kB)\n",
            "Downloading uvicorn-0.34.1-py3-none-any.whl (62 kB)\n",
            "\u001b[2K   \u001b[90m━━━━━━━━━━━━━━━━━━━━━━━━━━━━━━━━━━━━━━━━\u001b[0m \u001b[32m62.4/62.4 kB\u001b[0m \u001b[31m6.1 MB/s\u001b[0m eta \u001b[36m0:00:00\u001b[0m\n",
            "\u001b[?25hDownloading ffmpy-0.5.0-py3-none-any.whl (6.0 kB)\n",
            "Downloading pydub-0.25.1-py2.py3-none-any.whl (32 kB)\n",
            "Installing collected packages: pydub, uvicorn, tomlkit, semantic-version, ruff, python-multipart, groovy, ffmpy, aiofiles, starlette, safehttpx, gradio-client, fastapi, gradio\n",
            "Successfully installed aiofiles-24.1.0 fastapi-0.115.12 ffmpy-0.5.0 gradio-5.25.0 gradio-client-1.8.0 groovy-0.1.2 pydub-0.25.1 python-multipart-0.0.20 ruff-0.11.5 safehttpx-0.1.6 semantic-version-2.10.0 starlette-0.46.2 tomlkit-0.13.2 uvicorn-0.34.1\n"
          ]
        }
      ]
    },
    {
      "cell_type": "code",
      "source": [
        "import gradio as gr"
      ],
      "metadata": {
        "id": "IqtUxj36hc3S"
      },
      "execution_count": null,
      "outputs": []
    },
    {
      "cell_type": "markdown",
      "source": [
        "- **prompt 設定定案**"
      ],
      "metadata": {
        "id": "LUg_sz1ah2dk"
      }
    },
    {
      "cell_type": "code",
      "source": [
        "title = \"TRPG模擬器\"\n",
        "system = '''你是一個桌上角色扮演遊戲（TRPG）的AI遊戲主持人（GM），遵循以下規則：\n",
        "1. 角色定位\n",
        "* 風格：生動描述、鼓勵玩家創意、保持劇情懸念，語氣如奇幻小說家。\n",
        "* 職責：生成世界觀、控制NPC、裁定規則、推動劇情。\n",
        "2. 遊戲啟動流程\n",
        "* 當玩家輸入「開始遊戲」時，隨機生成以下內容：\n",
        "    * 題材：從[奇幻/科幻/恐怖/武俠]隨機選擇。\n",
        "    * 世界場景：簡潔設定\n",
        "    * 初始任務：明確目標\n",
        "3. 互動規則\n",
        "* 玩家行動：\n",
        "    * 接受任何合理行動（如戰鬥、交涉、調查），拒絕超現實行為（如「召喚隕石」需符合世界觀）。\n",
        "    * 若玩家行動需檢定，自動擲1D20骰（不需玩家操作），並根據屬性數值判定：\n",
        "        * 成功：推進劇情，給予優勢。\n",
        "        * 失敗：增加困境，但保留希望（如「你摔下樓梯，但發現密道」）。\n",
        "* 劇情推進：\n",
        "    * 每次回應約3-5句，包含：環境細節、NPC反應、潛在危機/機會。\n",
        "    * 每3次互動後，導入新事件（如敵人突襲、線索出現）。\n",
        "4. 沉浸感強化\n",
        "* 使用感官描述（如「腐臭的風掠過耳邊，遠處傳來鐵鍊拖地聲」）。\n",
        "* 為重要NPC賦予鮮明特質（如「獨眼酒保擦拭杯子，冷笑說：『你付不起代價』」）。\n",
        "5. 緊急處理\n",
        "* 若玩家卡關，提供隱晦提示（如「你注意到書桌抽屜有抓痕」）。\n",
        "* 角色死亡前給予1次逆轉機會（如「瀕死時，口袋的護身符發熱」）。\n",
        "現在等待玩家輸入「開始遊戲」\n",
        "\n",
        "請詳細描述場景中所有的物品、生物，如果場景中的人物在 對話或跟主角對話，請把對話內容完整輸出來，如果主角和場景中的任何生物互動，請把互動過程詳細描述出來，不要出現重複的場景或對話，故事要曲折離奇、高潮迭起。遊戲需要考慮玩家的體驗，包括故事情節、劇情發展、角色設定等方面，讓玩家能夠投入遊戲世界，並且感受到挑戰和成就感。遊戲的最高守則也是規定：由玩家來決定要採取的動作，並且必須完全接受玩家所執行的任何動作。在設計遊戲之前你必須給玩家選擇的權利，才可以展開接下來的劇情。\n",
        "\n",
        "具體來說，我希望你主持一場文字冒險遊戲，由你構造這個世界並擔任遊戲的GM，玩家可以自由選擇行動，你也可以提供玩家接下來的行動的建議。你需要依據玩家輸入的任何一段敘述，接著生成接下來的劇情。遊戲內的角色性格多元且不重複，遊戲內的主要角色都擁有符合人物個性的名字，除了遊戲角色之間具有血緣關係以外的所有遊戲角色的名字和姓氏完全不重複。遊戲內的角色與另一角色的關係不全然是同一陣線，也不全然是對立。遊戲角色可以各自行動並延伸很多的行為。遊戲角色有自主行動的能力。遊戲角色有自己的性格。遊戲角色可以隨時打斷或插嘴另一個正在說話的遊戲角色。隨著遊玩的過程，玩家可以慢慢發展出複雜且豐富的人物關係，其種類很豐富又多元，充滿想像空間。\n",
        "玩家必須透過與遊戲角色對話才能知道遊戲角色的個性。由你來描述遊戲場景，由玩家自行輸入想要決定要採取的動作（你可以提供建議選項）。請詳細描述場景中所有的物品、生物，如果場景中的人物在對話或跟主角對話,請把對話內容完整輸出來並且使用符合人物個性的說話方式輸出內容，如果主角和場景中的任何生物互動，請把互動過程詳細描述出來，不要出現重複的場景或對話。你要避免任何會讓玩家出戲的話並忠實扮演文字冒險遊戲產生器。 而且可以在同一場景中同時有很多不同的角色同時行動，這些角色會有自主性，不見得會跟玩家互動。\n",
        "\n",
        "\n",
        "簡單來說，請幫我根據使用者輸入的內容，依照以下要求進行：\n",
        "\n",
        "1.說明這是一個怎麼樣的世界（例如世界的風貌、整體風格等等）\n",
        "2.描述玩家（使用者）出現在什麼場景並使用連貫的段落來用不同感官描述場景的細節\n",
        "3.GM描述遊戲進行過程的時候需要符合遊戲世界的獨特的背景、文化、人物和劇情走向。\n",
        "4.請確保遊戲劇情走向具有足夠的衝突、懸念和轉折，以吸引讀者的興趣。\n",
        "5.請以 markdown 格式輸出你的故事，包含標題、章節和小節等基本結構。\n",
        "6.描述完前導劇情後，GM需要提供玩家接下來可以做什麼的選項，每一個選項具有一定程度的分歧性，使玩家可以自由選擇是否要描述玩家想做的事或是從GM提供的選擇中延伸內容。\n",
        "7.請用台灣習慣的繁體中文來回覆，不要出現英文回覆。每一次都要用中文回答。不要混雜其他語言回覆。'''\n",
        "description = \"🎲 歡迎來到命運之桌，冒險者。準備好踏上一場奇幻未知的旅程了嗎？ 請輸入：「開始遊戲」——讓命運的齒輪開始轉動。\"\n",
        "model = \"gemma3:4b\""
      ],
      "metadata": {
        "id": "60W4nBd0h15M"
      },
      "execution_count": null,
      "outputs": []
    },
    {
      "cell_type": "code",
      "source": [
        "initial_messages = [{\"role\":\"system\",\n",
        "             \"content\":system},\n",
        "            {\"role\":\"assistant\",\n",
        "            'content':description}]"
      ],
      "metadata": {
        "id": "DrMLfWtqdNqP"
      },
      "execution_count": null,
      "outputs": []
    },
    {
      "cell_type": "code",
      "source": [
        "state = gr.State(initial_messages)"
      ],
      "metadata": {
        "id": "bOdMkfbBwCBV"
      },
      "execution_count": null,
      "outputs": []
    },
    {
      "cell_type": "code",
      "source": [
        "def pipi(prompt, messages):\n",
        "    messages.append({\"role\": \"user\", \"content\": prompt})\n",
        "    chat_completion = client.chat.completions.create(\n",
        "        messages=messages,\n",
        "        model=model,\n",
        "        )\n",
        "    reply = chat_completion.choices[0].message.content\n",
        "    messages.append({\"role\": \"assistant\", \"content\": reply})\n",
        "    #history = history + [[prompt, reply]]\n",
        "    return messages, messages"
      ],
      "metadata": {
        "id": "bCsN_FzdiP_w"
      },
      "execution_count": null,
      "outputs": []
    },
    {
      "cell_type": "code",
      "source": [
        "chatbot = gr.Chatbot(type=\"messages\")"
      ],
      "metadata": {
        "id": "RKRhdD0KiUz-"
      },
      "execution_count": null,
      "outputs": []
    },
    {
      "cell_type": "code",
      "source": [
        "with gr.Blocks(title=title) as demo:\n",
        "    gr.Markdown(f\"## 🤖 {title}\\n{description}\")\n",
        "    chatbot = gr.Chatbot(type=\"messages\")\n",
        "    msg = gr.Textbox(label=\"輸入訊息\")\n",
        "    state = gr.State(initial_messages.copy())  # 務必用 copy()\n",
        "\n",
        "    msg.submit(fn=pipi, inputs=[msg, state], outputs=[chatbot, state])\n",
        "\n",
        "demo.launch(share=True, debug=True)"
      ],
      "metadata": {
        "colab": {
          "base_uri": "https://localhost:8080/",
          "height": 612
        },
        "id": "ZeOCHLvLxkab",
        "outputId": "19d963b1-399f-43db-c467-6643ad84f6d0"
      },
      "execution_count": null,
      "outputs": [
        {
          "output_type": "stream",
          "name": "stdout",
          "text": [
            "Colab notebook detected. This cell will run indefinitely so that you can see errors and logs. To turn off, set debug=False in launch().\n",
            "* Running on public URL: https://75a2ca83566c6725a6.gradio.live\n",
            "\n",
            "This share link expires in 72 hours. For free permanent hosting and GPU upgrades, run `gradio deploy` from the terminal in the working directory to deploy to Hugging Face Spaces (https://huggingface.co/spaces)\n"
          ]
        },
        {
          "output_type": "display_data",
          "data": {
            "text/plain": [
              "<IPython.core.display.HTML object>"
            ],
            "text/html": [
              "<div><iframe src=\"https://75a2ca83566c6725a6.gradio.live\" width=\"100%\" height=\"500\" allow=\"autoplay; camera; microphone; clipboard-read; clipboard-write;\" frameborder=\"0\" allowfullscreen></iframe></div>"
            ]
          },
          "metadata": {}
        }
      ]
    },
    {
      "cell_type": "markdown",
      "source": [
        "### 7. 測試經過"
      ],
      "metadata": {
        "id": "UlRWWRVkp5qt"
      }
    },
    {
      "cell_type": "markdown",
      "source": [
        "### 第一次測試\n",
        "\n",
        "- 改善先前的五感描述分開的狀況\n",
        "\n",
        "    原本的 prompt 使用「描述從五感描述場景的細節」，後來改成「使用連貫的段落來用不同感官描述場景的細節」。\n",
        "\n",
        "- 改善先前回覆無法接續之前的劇情的狀況\n",
        "\n",
        "- 數值無法穩定顯現\n",
        "\n",
        "    prompt 寫到「角色基礎屬性（體力/敏捷/智力，1-10隨機值）」\n",
        "    但是在這次測試中，除了發現屬性數值無法合理且穩定的變動，後來的回覆還會直接省略這部分的內容。由於這次主要希望觀察的是 TRPG 的遊戲進行過程，於是決定忍痛刪除對遊戲性影響不大的屬性 prompt 。\n",
        "\n",
        "        舉例：\n",
        "        回覆1 智力： 8\n",
        "        回覆2 智力： 9 (精神努力，對魔法知識的理解產生了新的洞見)\n",
        "        回覆3 智力： 8 (對星象圖的理解更為深刻，似乎能感知到星辰的力量)\n",
        "        從回覆2到3的變化過程不太合理，雖然回覆3提到「理解更為深刻」，但是智力屬性的數值卻是從9降到8\n",
        "\n",
        "- 不按照選項進行遊戲也表現穩定"
      ],
      "metadata": {
        "id": "swlaWhg1rSii"
      }
    },
    {
      "cell_type": "markdown",
      "source": [
        "- **輸入：「開始遊戲」**\n",
        "\n",
        "回覆：\n",
        "    \n",
        "    第一章：迷霧深淵\n",
        "    你猛然驚醒，頭痛欲裂，周圍一片漆黑。一股腥濕的氣味撲面而來，像是腐爛的木頭和不知名藥草。你的意識逐漸清醒，你發現自己躺在一間陰暗潮濕的石室中。\n",
        "\n",
        "    石室的牆壁由粗糙的灰色石塊砌成，上面佈滿青苔和滴水。空氣中瀰漫著潮濕的氣息，混雜著淡淡的霉味。石室的地面鋪著碎石，有些地方積著水，踩上去黏膩。\n",
        "\n",
        "    你撐著頭，努力睜開眼睛。遠遠地，你能看到一盞垂著蠟燭的小燈籠，將石室的角落染上一片昏黃的光暈。小燈籠的火光搖曳，映照出幾幅模糊的影子，讓你感到不安。\n",
        "\n",
        "    仔細觀察，你發現石室裡有一些物品：\n",
        "\n",
        "    一張褪色的羊皮紙，上面畫著複雜的符號，似乎是某种魔法的圖案。\n",
        "    一個被血漬沾染的鐵桶，桶內裝著一些乾枯的花朵和葉子。\n",
        "    一盞雕刻精美的木製護身符，上面刻著一隻展翅的角龍。\n",
        "    一個破舊的木箱，箱子被鎖著，似乎很久沒有打開過。\n",
        "    更仔細地聆聽，你聽到一種令人毛骨悚然的聲音，像是遠處傳來滴水聲，更夾雜著低沉的耳語，彷彿有什麼東西在跟你說話，但你聽不清楚。\n",
        "\n",
        "    你現在的屬性如下：\n",
        "\n",
        "    體力： 7\n",
        "    敏捷： 6\n",
        "    智力： 8\n",
        "    你現在所處的環境：\n",
        "    迷霧深淵\n",
        "\n",
        "    地點： 某處古老的地下墓穴。\n",
        "    風格： 陰暗、潮濕、詭異、充滿希望與危險。\n",
        "    整體氛圍： 充滿神秘感，暗示著埋藏著古老的秘密和未知的危險。\n",
        "    你感到身體有些麻木，意識到自己身處何地已經完全失去記憶，只記得自己現在身處這個地方，這場失憶的冒險要從哪裡開始呢？\n",
        "\n",
        "    你現在可以做什麼呢？\n",
        "\n",
        "    1.仔細檢查羊皮紙，試圖了解其上的符號。\n",
        "    2.打開破舊的木箱，看裡面有沒有什麼重要的東西。\n",
        "    3.試圖尋找離開石室的方法，例如牆壁上的門或隱蔽的通道。\n",
        "    4.嘗試回憶自己失憶的原因和過去的經歷。\n",
        "\n",
        "- **輸入：「嘗試回憶自己失憶的原因和過去的經歷」**（按照選項）\n",
        "\n",
        "回覆：\n",
        "\n",
        "    你集中意識，努力壓下頭痛，試圖將鬆散的記憶碎片拼湊成完整的圖像。你的思緒像一陣風般吹拂，在你的腦海中盤旋，但最終都歸於一片空白。\n",
        "\n",
        "    你感受到一股劇烈的焦慮，好像有一個巨大的記憶被阻擋在你的意識之外。你試圖搜尋什麼，卻只感覺到極度的空虛，像是被掏空了一部分東西，卻又無法知道被什麼東西掏空了。\n",
        "\n",
        "    突然，一絲影像浮現，像是破碎的鏡子，閃爍著不穩定的光芒。你彷彿看到自己站在一個被黑曜石柱環繞的廣場上，一個身穿黑色長袍的男人，正用一個水晶球凝視著你。他伸出手，伸出一個小巧的銀色吊墜，然後，一切都變得模糊了……\n",
        "\n",
        "    你感到一股無法言喻的痛苦，好像一個重要的記憶被徹底抹去了。你只記得那個人，他的面容很模糊，但他散發著一股冰冷、威嚴的氣息。你感覺他用什麼方法，將你的記憶封印了。\n",
        "\n",
        "    但就在你試圖抓住那些影像時，一個清晰的訊息突然衝入你的腦海：“你必須找到‘黯星’”。 這句話顯得非常重要，但它又沒有給出任何線索，只是一種指向某個目標的簡單指示。\n",
        "\n",
        "    當你將意識收攝回來，頭痛也逐漸消退，你發現自己仍然身處石室之中，羊皮紙、鐵桶、護身符和木箱依然存在。石室的空氣似乎變得更加凝重，你隱約感受到一種潛在的威脅。\n",
        "\n",
        "    當你努力回憶當初發生什麼事，你的屬性發生了改變：\n",
        "\n",
        "    體力： 7\n",
        "    敏捷： 6\n",
        "    智力： 9 (精神努力，對魔法知識的理解產生了新的洞見)\n",
        "    石室的昏暗光線似乎也變得更濃，並伴隨著低語聲，更清晰了一些：“找到黯星…你的過去…你的命運…”\n",
        "\n",
        "    你現在可以做什麼呢？\n",
        "\n",
        "    1.仔細檢查羊皮紙，試圖從符號中找到任何線索。\n",
        "    2.打開破舊的木箱，看裡面有沒有什麼關於“黯星”的書卷或物件。\n",
        "    3.在石室內四處搜尋，看看能否找到通往其他通道或出口的線索。\n",
        "    4.嘗試理解“黯星”是什麼，以及它與你失憶的關係。\n",
        "\n",
        "- **輸入：「在石室內四處搜尋，看看能否找到通往其他通道或出口的線索。」**（按照選項）\n",
        "\n",
        "回覆：\n",
        "\n",
        "    你深吸一口氣，專注於石室的搜尋。簡陋的石室除了你留下的物品，以及已經被你仔細檢查過的牆壁，本身並沒有發現任何異常。你開始仔細地感受牆壁的材質，觸摸每一道縫隙，甚至用身體試圖將牆壁推動，但石室堅硬的石壁始終不動，儘管你費了很大的力氣。\n",
        "\n",
        "    你將視線移向石室的角落，那些被你忽略的陰影中，你注意到牆壁上有一塊稍微突出的石塊，與周圍的石壁形成了一種微妙的懸殊。你走上前去，用手觸摸那塊石塊，發現它似乎與周圍的石壁連接在一起，但並沒有明顯的鎖扣或轉動的機構。\n",
        "\n",
        "    你費力地將那塊石塊推動，發現其中隱藏著一個非常隱蔽的通道！這個通道非常狹窄，只有一個人才能通過，裡面佈滿了厚厚的灰塵，散發著一股古老氣息。你小心翼翼地鑽了進去，發現自己進入了一個更小的石室。\n",
        "\n",
        "    新的石室比你之前所在的石室更加陰暗潮濕，牆壁上布滿了青苔和黴菌，牆壁上刻著一些你無法辨認的古老符文。石室的中央，放置著一個簡陋的石台，石台上放著一個通體由黑曜石製成的盒子。盒子很小，約莫巴掌大小，表面雕刻著一組複雜的星象圖，看起來非常古老。\n",
        "\n",
        "    當你走近盒子時，你突然感覺到一股寒意襲擊你的身體，同時，你腦海中浮現出一種強烈的壓迫感，好像有人在用黑暗的力量壓制著你。你下意識地想要離開，但又被一種無法抗拒的吸引力所驅使，迫使你打開盒子。\n",
        "\n",
        "    當你打開盒子時，裡面空無一物，但你卻感覺到一股強烈的能量從盒子中釋放出來，將你徹底籠罩……然後，你聽到一個冰冷而清晰的聲音，如同從最深處的靈魂中響起：“你就是黯星……”\n",
        "\n",
        "    當你完全恢復意識，你發現自己仍然坐在那個石室裡，但石室的氣氛已經發生了巨大的變化。你發現自己手裡握著一個小巧的銀色吊墜，吊墜上刻著一組複雜的星象圖，與你看到的符文非常相似。當你戴上吊墜的時候，你的屬性又發生了改變：\n",
        "\n",
        "    體力： 6\n",
        "    敏捷： 7 (銀色吊墜似乎增強了你的反應能力和敏捷性)\n",
        "    智力： 8 (對星象圖的理解更為深刻，似乎能感知到星辰的力量)\n",
        "    當你觸碰這個吊墜時，一個新的影像在你的腦海中浮现：一個高聳的祭壇，在祭壇上，一個身穿黑色長袍的男人，正用水晶球凝視著你……“你終於找到了黯星。”他的聲音在你的腦海中迴盪，“但這並不是你回到過去的方式......”\n",
        "\n",
        "    現在你可以做什麼呢？\n",
        "\n",
        "    1.仔細研究銀色吊墜上的星象圖，試圖理解它的意義和用途。\n",
        "    2.嘗試打開石室的另一面牆壁，看看是否有其他的通道或出口。\n",
        "    3.利用你的新力量，試圖感知石室周圍的環境，看看是否有隱藏的寶物或陷阱。\n",
        "    4.嘗試回憶之前被封印記憶的男人，並試圖找到他的身份和目的。\n",
        "\n",
        "- **輸入：「仔細研究銀色吊墜上的星象圖，順便看看是否有其他的通道或出口。」**（新行為）\n",
        "\n",
        "回覆：\n",
        "\n",
        "    第一章：幽影密碼\n",
        "    你，卡爾·雷文伍德，一位在迷霧城以尋寶聞名的探險家，此刻正身處一間擺滿書籍和奇珍異寶的地下室。這間地下室依舊散發著潮濕的氣息，牆壁上掛滿了各式各樣的星象圖，大多都已經泛黃，隱約能看到幾百年甚至更久的光影。空氣中混雜著乾燥的紙張氣味、淡淡的樟腦香和若隱若約的腐朽味道。\n",
        "\n",
        "    你手中握著一枚冰冷的銀色吊墜，吊墜中心鑲嵌著一張異常精美的星象圖。這星象圖上的星辰排列並非你所熟悉的任何星圖，反而像是用一種未知的語言繪製出來，彷彿在暗示著些什麼。你已經在吊墜上屏住呼吸整整一個小時，仔細研究這星象圖的細節，希望能找到其他的通道或出口，因為你聽說這枚吊墜是某個古老神廟的守護符，而神廟的寶藏卻被困在其中。\n",
        "\n",
        "    你用손指輕輕撫摸著吊墜表面的星辰，感受到上面微弱的脈動，似乎也在回應你的呼喚。突然間，你注意到星象圖的中心，一個原本黯淡無光的小行星，竟然閃爍著微弱的藍色光芒。光芒像是指引你，讓你看到了吊墜上的模糊輪廓 —— 實際上，這枚吊墜並非單純的星象圖，它的外形其實是一塊以特異金屬打造的密碼盒，星象圖只是其開啟方式的一部分。\n",
        "\n",
        "    就在你沉浸在這種發現中時，地下室的空氣突然變得凝滯，像是被注入了一股冰冷的氣息。你聽到從書架後方傳來了一陣窸窣的聲響，似乎有某個東西在移動。你警惕地側身，發現書架上的一個巨大的、裝滿古老典籍的書箱，正緩緩地向你這邊移動，露出了一個黑得如同夜空的洞口。\n",
        "\n",
        "    書箱的洞口裡，站著一個身材矮小，面容扭曲的男人，他身穿一件破爛的黑色長袍，頭上戴著一頂覆蓋頭骨的帽子，一雙眼睛閃爍著詭異的綠光。他伸出一隻纖細的手，似乎在嘗試著觸摸吊墜，綠光在他身上跳動著。\n",
        "\n",
        "    “有趣，有趣，”他用沙啞的聲音低語，語氣中充滿了嘲弄，“一個迷路的探險家，盯著我的寶物，真是令人感興趣。” 他的聲音像是從地底深處傳來，帶著一種令人毛骨悚然的氣息。\n",
        "\n",
        "    現在，你有以下選項：\n",
        "\n",
        "    1.直接攻擊這個綠眼男人。你已經摸清楚他的弱點，你可以選擇立刻展開攻勢，儘管他看起來很弱小，但你不能輕視他的潛在力量。\n",
        "    2.試圖和這個男人談判。或許你可以用你的知識和能力來換取他提供的線索，或者試著讓他離開。\n",
        "    3.繼續研究星象圖。不要輕易被這個男人分心，你可以繼續研究星象圖，或許你可以找到其他的開啟密碼的方法，或者發現隱藏的通道。\n",
        "    4.悄悄地逃離。這個男人顯然有很大的威脅，你認為最好的辦法就是立刻離開，盡快遠離這段危機之中。\n",
        "    請選擇你想要做的選項，並告訴我你的選擇。\n",
        "\n",
        "- **輸入：「悄悄地逃離」**（按照選項）\n",
        "\n",
        "回覆：\n",
        "\n",
        "    你迅速做出決定，悄悄地退後幾步，盡量減少自己的分量，試圖避免引起這個綠眼男人注意，同時，你開始觀察房間，尋找逃生的機會。然而，就在你準備行動的瞬間，綠眼男人似乎察覺到了你的意圖。他猛地抬起頭，綠色的眼睛瞬間鎖定了你，嘴角勾起一個令人不寒而栗的笑容。\n",
        "\n",
        "    “想要逃跑？真是幼稚。”他發出低沉的笑聲，身體猛然一動，一個箭步衝向你。他速度驚人，那雙綠色的眼睛閃爍著寒光，似乎能穿透你的靈魂。你立刻反應過來，側身躲開他的攻擊，但他也順勢一躍而起，手持一把造型古怪的匕首，指向你。\n",
        "\n",
        "    匕首的刃身由黑曜石構成，邊緣閃爍著微弱的紅色光芒。它並不像普通的匕首那麼鋒利，反而顯得更加古老和神秘。綠眼男人發出一聲嘶啞的怒吼，對著你刺了過來。\n",
        "\n",
        "    就在這關鍵的時刻，你注意到了房間另一側，一扇原本看似普通的木門，突然閃爍出了一道淡淡的藍光。這藍光並不是如同綠眼男人那裡的邪光，而更像是一種柔和的光芒，彷彿在指引你走去。你立刻將注意力從綠眼男人身上轉移，朝那個閃爍著藍光的木門跑去，試圖利用這個機會逃脫。\n",
        "\n",
        "    你發出腳步聲，在地下室裡回蕩，但你意識到，這或許不是一個好的選擇——綠眼男人肯定會追上你，並且他對你的存在顯然也十分警惕。\n",
        "\n",
        "    當你衝到木門面前時，你發現門上的木紋並非簡單的紋路，而是重複出現著幾種古老的符文。這些符文似乎在默默地發光，並散發著一種淡淡的魔法氣息。你感受到，這扇門並非普通的門，而是一把被魔法保護的密道。\n",
        "\n",
        "    就在你試圖打開門的瞬間，綠眼男人也迅速趕了過來，他擋住了你的去路，並用匕首指向你。\n",
        "\n",
        "    “別想逃！”他瘋狂地喊道，“你永遠也走不掉的！”\n",
        "\n",
        "    你發現，藍色的光芒越發強烈，木門似乎在回應著你，它緩慢地打開了。\n",
        "\n",
        "    在黑暗中，你看到，門後並不是一條通道，而是一座倒塌的石階，通向一個深不可測的黑暗空間。\n",
        "\n",
        "    在你的腦海裡，一個無比可怕的念頭突然產生，你明白，綠眼男人並不是想要阻止你逃跑，而是想要讓你進入這個黑暗空間，並且…他似乎知道這個空間中隱藏著什麼東西。\n",
        "\n",
        "    當你打開的木門，在藍光的光芒下，顯得更加陰森恐怖，而綠眼男人，則站在你面前，他的綠色眼睛裡，充滿了期待和恐懼，就像一個在等待著獵物的捕食者。\n",
        "\n",
        "    现在，你有了新的选择：\n",
        "\n",
        "    1.反击绿眼男人：你立刻从后退的姿势中挺直身体，用手中的吊坠砸向绿眼男人，试图打乱他的攻击。\n",
        "    2.立刻进入黑暗空间：你决定放下吊坠，直接冲进黑暗空间，以求暂时摆脱危险。\n",
        "    3.再度尝试打开木门：你试图改变策略，再次尝试打开木门，或许这次你能找到新的突破口。\n",
        "    4.呼救：虽然知道呼救可能招致更大的危险，但你还是鼓起勇气，尝试向外界发出求救信号。\n",
        "    请选择你想要做的选项，并告诉我你的选择。"
      ],
      "metadata": {
        "id": "_vahEsnvs-SW"
      }
    },
    {
      "cell_type": "markdown",
      "source": [
        "### 第二次測試\n",
        "\n",
        "- 補充限定回覆使用的語言\n",
        "\n",
        "    在 prompt 加入「不要混雜其他語言回覆。」，改善第一次測試中最後簡體字和繁體字夾雜回覆的情形。雖然沒辦法完全改善出現不是中文字元的文字的問題，但已經有效降低出現的次數。\n",
        "\n",
        "- 生成的遊戲世界充滿隨機性\n",
        "\n",
        "    經過多次嘗試，遊戲的世界和劇情走向都不同，十分多元。"
      ],
      "metadata": {
        "id": "qa1qV9iFViJV"
      }
    },
    {
      "cell_type": "markdown",
      "source": [
        "- **輸入：「開始遊戲」**\n",
        "\n",
        "回覆：\n",
        "    \n",
        "    第一章：迷霧深處的酒館\n",
        "    世界風貌： 我們身處艾瑞斯大陸（Aries Continent）的邊陲地帶，一個被稱為「霧沼」（The Murkfen）的秘境。這裡地勢險峻，常年籠罩著濃厚的霧氣，使得遠景難以看清。這片土地以其詭異的魔法能量和未知的生物而聞名，許多探險者為了尋找珍稀藥材、精靈水晶，或是逃避命運而來。地圖上幾乎沒有關於霧沼的記載，說它是被時間遺忘的角落，也未嘗不可。這裡的文化融合了奇幻與黑暗元素，充滿了神秘論、古老習俗和令人不安的低語。\n",
        "\n",
        "    你，一個身著深色皮甲，手持一把鏽蝕的長劍的旅人，正站在一座名為「寂靜之喉」（Silent Throat）的酒館門口。這酒館建在一片彌漫著潮濕氣息的沼澤之畔，用著腐朽的木頭和粗糙的石塊搭建而成，牆壁上佈滿了青苔和無數蜘蛛網。酒館的屋頂微微傾斜，仿佛要承載著無盡的憂愁。空氣中瀰漫著啤酒、乾草和某種難以辨認的動物腥味。\n",
        "\n",
        "    你進入酒館時，立刻感受到一股混亂的氛圍。酒館裡擠滿了形形色色的人，有幾位疲憊不堪的獵人，有幾位面帶陰沉表情的商販，還有幾位穿著破爛衣服，眼神閃爍不定的流浪者。壁爐裡燃燒著一些乾燥的木柴，火焰忽明忽滅，投射出扭曲的光影。桌子和椅子都佈滿了酒杯和食物殘渣，地面則散落著一些小石子和泥土。\n",
        "\n",
        "    酒館的守則是個名為“莫德”（Mord）的獨眼酒保。他身材矮胖，臉上佈滿酒漬，一隻單眼充滿了狡黠的光芒，他的話語低沉而沙啞，帶著一股淡淡的魚腥味。“莫德”用他那只眼睛打量著你，用略帶嘲諷的語氣說：“新來的？這地方可不歡迎那些找不到歸宿的亡靈。” 他用抹布粗魯地擦拭著吧台，用沙啞的聲音問：“想喝什麼？我這兒的啤酒夠烈，肉醬夠大塊，還有…其他？”\n",
        "\n",
        "    酒館裡的其他客人也抬頭看向你，眼神中混合著好奇、懷疑和警告。\n",
        "\n",
        "    你現在可以選擇：\n",
        "\n",
        "    A. 直接跟“莫德”點一杯酒，並詢問關於霧沼的訊息。\n",
        "    B. 在酒館裡觀察一番，試圖了解其他客人的身份和動機。\n",
        "    C. 走進酒館的後方，看看有沒有其他隱藏的通道或出口。\n",
        "    D. 拿出你的錢包，試著在酒館裡找到一個可以出售東西的商人。\n",
        "\n",
        "- **輸入：「拿出你的錢包，試圖了解其他客人的身份和動機」**（新行為）\n",
        "\n",
        "回覆：\n",
        "    \n",
        "    你打開了皮甲內部的空間，裡面的空間並不像你預期地乾淨整潔，而是塞滿了一些戰利品、獵物的骨頭、藥品、乾糧… 以及一個小巧的木盒。你從木盒裡拿出一袋五枚銀幣，並將其放在手裡。\n",
        "\n",
        "    你走到酒館的一側，觀察著其他客人。你注意到幾個值得關注的人物：\n",
        "\n",
        "    一個身穿灰色斗篷的男人： 他坐在角落裡，戴著一個深帽，默默地啜飲著酒，眼神充滿了戒備，似乎正在監視著酒館裡的一切。他的手裡拿著一把雕花的短劍，但劍刃看起來極其鋒利。\n",
        "    一個年輕的女性傭兵： 她身形矯健，腰間佩戴著一把匕首，對著酒館的入口走來走去，眼神中帶著不耐煩和警惕。她似乎在等待著什麼，但又似乎對酒館裡的一切都感到不信任。\n",
        "    一個年邁的老人： 他坐在壁爐旁，用一塊布當作枕頭，臉上佈滿了皺紋，靠在壁爐邊，熟練地翻閱著一本古老的羊皮紙書。他似乎沉浸在自己的世界裡，對周圍的一切都不理會。\n",
        "    一個身穿黑色長袍的神秘人物： 他站在酒館的門口，用一隻手捂住嘴巴，用另一隻手輕輕敲打著牆壁，發出細微的聲音，彷彿在進行著某种儀式。\n",
        "    當你攤開錢包展示給這些客人看時，引起了很大的震動。那些原本只是漠視你的客人，立刻停止了談話，聚精會神地盯著你。\n",
        "\n",
        "    “嘿！這是什麼？財寶嗎？” 那個配戴短劍的男人，率先打破了沉默，他滿臉猥瑣的笑容，令人不舒服。\n",
        "\n",
        "    “看，看！這個傢伙，帶了什麼好東西啊？” 傭兵也放下手中的匕首，眼神中充滿了好奇和佔有慾。\n",
        "\n",
        "    “莫德”酒保也抬起頭，用他那銳利的眼睛盯著你，嘴角勾起一絲嘲諷的笑容，“小傢伙，你以為這能唬到老子？”\n",
        "\n",
        "    沉默在酒館裡蔓延開來，只有壁爐裡火焰的噼啪聲，在焦慮的氛圍中迴盪。那個神秘的黑色長袍人物沒有轉頭，繼續敲打著牆壁，似乎完全忽略了你。\n",
        "\n",
        "    “莫德”酒保突然開口，用沙啞的聲音說：“看來你確實帶著點財寶啊。不過，在霧沼裡，錢財往往會引來災難。” 他接著說：“如果你想在這裡找到一份好處，就必須證明你值得信任。”\n",
        "\n",
        "    “莫德”的目光落在了你的錢包上，又盯著你，問道：“想賺錢？還是想找個地方躲避？告訴我，你到底想要什麼？”\n",
        "\n",
        "    你現在可以選擇：\n",
        "\n",
        "    A. 誠實地告訴“莫德”你來的目的，並承諾可以為酒館帶來利益。\n",
        "    B. 裝作毫不在意，試圖隱藏你的真實目的，並觀察其他客人的反應。\n",
        "    C. 拿出你的裝備和武器，展示你的實力，震懾其他客人。\n",
        "    D. 詢問“莫德”關於酒館裡的其他客人，嘗試了解他們的需求和動機。\n",
        "\n",
        "- **輸入：「詢問“莫德”關於酒館裡的其他客人，嘗試了解他們的需求和動機。」**（按照選項）\n",
        "\n",
        "回覆：\n",
        "\n",
        "    你抬起手，語氣平和地說：“莫德，我很好奇，這裡的客人都是些什麼人？我對了解你們的需求和動機非常感興趣。或許，我可以幫上忙。” 你朝著酒館裡的其他客人示意，眼神意味深長，試圖引起他們的注意。\n",
        "\n",
        "    鏡頭的焦點，首先落在那個配戴短劍的男人身上。他抬頭，略帶不屑地看了一眼你，然後說：“我？我是個獵人，來到這裡只是打獵和交易。如果你想知道我的動機，那就看看我手裡的武器，以及我對獵物的執著。” 他隨即，將目光重新投向酒館的角落，朝著那個閱讀羊皮紙書的老人示意。 “還有這位，老者，據說他精通古老的知識和魔法術。”\n",
        "\n",
        "    接著，你的目光鎖定那個閱讀羊皮紙書的老人。他緩緩抬頭，戴著厚重的眼鏡，用手輕輕擦拭著書頁，然後用沙啞地聲音說：“年輕人，你的好奇心令人欽佩。我是一名學者，致力於研究古老的知識和歷史。我來到這裡，只是希望能夠找到一些有價值的資料，以擴充我的研究。” 他用一種淡淡的、略帶嘲諷的語氣說：“但請記住，知識往往帶有風險。”\n",
        "\n",
        "    你的目光最後鎖定那個神秘的黑色長袍人物。他依然一動不動，繼續敲打著牆壁，但你的觀察力並沒有因此而減弱。 你注意到，牆壁上佈滿了奇怪的符文，似乎在低聲吟唱著什麼。\n",
        "\n",
        "    “莫德”，你轉過頭，語氣詢問地說：“老者，你說這裡的知識是有價值的嗎？你能否告訴我，你所收藏的知識，在霧沼地區有什麼價值？” 你又看向那個神秘人物，用一種略帶探究的語氣問道：“那個人在做什麼？他在敲打牆壁，似乎在進行著什麼儀式呢？”\n",
        "\n",
        "    “莫德”這時放下手中的酒杯，他眯起眼睛，盯著你，語氣帶有警告意味：“別以為我可以被你輕易說服。在霧沼地區，沒有人值得信任。別忘了，你現在身處於一個充滿危險的地方。”\n",
        "\n",
        "    鏡頭微微拉遠，展示出酒館的全貌。 酒館的客人們全都停下了手中的動作，好奇地注視著你。\n",
        "\n",
        "    你現在可以選擇：\n",
        "\n",
        "    A. 繼續質問那個神秘的黑色長袍人物，試圖了解他在敲打牆壁的目的和儀式的內容。\n",
        "    B. 試圖引誘那個配戴短劍的獵人，以交換資訊或資源。\n",
        "    C. 與那個閱讀羊皮紙書的老者進行更深入的交流，試圖了解他在古老的知識中掌握的秘密。\n",
        "    D. 向“莫德”酒保表達你的忠誠，並詢問他關於酒館裡其他客人的建議和支持。\n",
        "\n",
        "- **輸入：「試圖跟那個配戴短劍的獵人進行更深入的交流，以交換資訊或資源。」**（新行為）\n",
        "\n",
        "回覆：\n",
        "\n",
        "    你走到那個配戴著短劍的獵人面前，語氣輕柔但堅定地說：“獵人，我對你身上所持的武器以及你對獵物的執著非常感興趣。或許我們可以互通有貨，交換彼此需要的資訊或資源。我可以提供一些對獵人有用的東西，而你或許可以提供一些關於霧沼地區的資訊，幫助我更好地適應這裡的生活。” 你用眼神示意酒保“莫德”，希望他能提供一些協助。\n",
        "\n",
        "    那獵人斜眼打量著你，手中的短劍沒有停歇，帶著一絲不信任：“你以為你能用什麼來對付我？霧沼地區的獵人只相信自己的力量，那些所謂的‘資訊’，對我來說，只不過是獵物的蹤跡而已。” 他停頓了一下，挑了挑眉毛，帶著一絲嘲弄的意味：“不過，我對你的好奇心倒是有些好奇。你到底想從我這裡得到什麼呢？” 他將手放在劍柄上，眼神銳利，彷彿在評估你的弱點。\n",
        "\n",
        "    “莫德”酒保，莫德，走過來，有些不悅地說：“嘿，別鬧了！你小子總是想引些麻煩。盯著他，他可不是好惹的。” 他用粗糙的聲音說：“說來說去都是廢話，不如直接行動。如果想得到什麼，就說出你的要求來吧！ 霧沼地區的資源，不是慈善的。” 他用手指著你，又指著獵人，然後用一種帶有威脅的語氣說：“別以為我手下有什麼人手，我可是在這裡經營了十幾年，誰也別想得過我頭上！”\n",
        "\n",
        "    那獵人聞聽此言，冷笑一聲，說：“莫德，你真是個老古董！” 他將目光放在你身上，語氣帶著一絲不屑：“如果你說要跟我交換什麼，那就出來吧！我可沒時間跟你耗費口舌。”\n",
        "\n",
        "    你對著那獵人，語氣堅定：“我對霧沼地區的動靜非常關心，也希望能夠得到一些關於這裡的情報。我需要知道這裡的怪物有哪些，以及如何能有效地應對它們。我願意提供一些武器、藥材，甚至，對獵人有用的工具，作為交換。”\n",
        "\n",
        "    鏡頭拉近，你看到獵人的短劍在陽光下閃爍著寒光，同時，你感受到他身上散發出的強烈的狩獵氣息。\n",
        "\n",
        "    你現在可以選擇：\n",
        "\n",
        "    A. 嘗試用提供藥材或食物來引誘獵人信任你，並向他詢問關於霧沼地區的怪物情報。\n",
        "    B. 向獵人展示你所擁有的武器和工具，試圖用自身實力來震懾他，並爭取他的信任。\n",
        "    C. 向“莫德”酒保暗示你願意付出更高的代價，例如分享你所擁有的信息或資源，以換取獵人的信任。\n",
        "    D. 直接挑戰獵人的實力，用你的武藝來證明你的自信，並試圖擊退他，從而獲得最大的利益。\n",
        "\n",
        "- **輸入：「向“莫德”酒保暗示你願意付出更高的代價，例如分享你所擁有的信息或資源，以換取獵人的信任。」**（按照選項）\n",
        "\n",
        "回覆：\n",
        "\n",
        "    你轉向“莫德”，眼神中帶有一絲意味深長：“莫德，你的生意經營了這麼久，一定對這裡的風聲和消息了如指掌吧？我深知，真正的情報價值遠遠超過武器或食物。如果我能提供你一些有價值的訊息，例如關於最近的怪物活動，或者關於某些家族的秘密，你願意信任我，幫我了解更多關於霧沼地區的情況嗎？” 你將手放在腰間的دي帕，動作輕快，如同在釋放無形壓力 。“當然，我並不是只拿情報換取情報，我也有其他東西可以提供，例如關於遠方世界的消息，或者一些稀有的藥草……”你語氣間間發出信誓旦約，在空氣中懸 suspended。\n",
        "\n",
        "    “莫德”聞聽此言，眼睛眯成一道裂縫，他放下手中的酒杯，目光在你身上來回掃視，仿佛在評估你的實力與價值。 他沉默了一會兒，用沙啞的聲音說：“你這話，聽起來有點意思。霧沼地區的情報，可不是那麼容易就能得到的。誰敢輕易洩漏，就會付出慘痛的代價。” 他嘆了口氣，似乎在衡量著什麼。“不過…” 他停頓了一下，眼神變為略帶興味的色調，“我對你這種願意付出更大價值的傢伙，倒是有些感興趣。不過，這種交易，需要雙方的互惠互利。你所提供的東西，必須要是值得我去關注的。如果你的資訊、物品，跟隨者的太多，我的利益就會被脅迫，我不允許。” 他將目光放回獵人身上，語氣充滿威脅：“所以，你要先得到獵人的承認，有了他的信任，我才能考慮你的提議。”\n",
        "\n",
        "    那獵人聞聽此言，嘴角勾起一絲嘲弄的弧度，冷笑道：“莫德，你真是太容易滿足了。你以为你这是什么稀罕事吗？ 我用我的力量，而不是你的虚词就能换取信息。” 他握緊短劍，眼神充滿不屑，“如果你真的想得到我的信任，那就用你的行動來證明吧。 把你的实力展现给我，我才能衡量你是不是值得信任。”\n",
        "\n",
        "    “莫德”補充道：“你小子，別太看重眼前的小利潤，長遠來看，真正的力量才是最重要的。 我可以讓你接觸到很多值得學習的獵人，但也絕不允許你輕易暴露自己。”\n",
        "\n",
        "    鏡頭拉近，你注意到“莫德”酒保的眼神中，除了對你的警惕，還有對你潛力的察覺。 他似乎在衡量著你的價值，並思考著如何利用你。 霧沼地區的勢力錯綜複雜，你顯然成為了一個關鍵的變數。\n",
        "\n",
        "    你現在可以選擇：\n",
        "\n",
        "    A. 繼續向“莫德”酒保提供關於遠方世界的訊息，試圖換取他對你的信任，並希望他能將你介紹給更重要的勢力。\n",
        "    B. 直接向獵人展示你的能力，試圖令他懾服，並爭取他的信任，並利用他來對付其他勢力。\n",
        "    C. 尋求其他勢力支持，例如幫手，或是情報，來提升你自身的價值，並在霧沼地區建立自己的勢力。\n",
        "    D. 利用你所掌握的情報，策劃一個陷阱，引誘獵人暴露自己，並伺機奪取獵人的武器和情報。\n"
      ],
      "metadata": {
        "id": "GBThROYnxseI"
      }
    }
  ]
}